{
 "cells": [
  {
   "cell_type": "markdown",
   "id": "d25e9c96",
   "metadata": {},
   "source": [
    "## Contents"
   ]
  },
  {
   "cell_type": "markdown",
   "id": "e67e7159",
   "metadata": {},
   "source": [
    "This script is analysing the variables related to subjects and objects of participation, as well as impact. Analysis is descriptive and includes data visualizations. "
   ]
  },
  {
   "cell_type": "code",
   "execution_count": 1,
   "id": "ef5924c0",
   "metadata": {},
   "outputs": [],
   "source": [
    "#importing libraries\n",
    "import pandas as pd\n",
    "import numpy as np\n",
    "import os\n",
    "import matplotlib.pyplot as plt\n",
    "import seaborn as sns\n",
    "import scipy\n",
    "import math"
   ]
  },
  {
   "cell_type": "markdown",
   "id": "3d87a3a8",
   "metadata": {},
   "source": [
    "### 1. Importing Data"
   ]
  },
  {
   "cell_type": "code",
   "execution_count": 2,
   "id": "54809f91",
   "metadata": {},
   "outputs": [],
   "source": [
    "#creating a path\n",
    "path= r'C:\\Users\\isobr\\OneDrive\\18042023ParticipationPractices'"
   ]
  },
  {
   "cell_type": "code",
   "execution_count": 3,
   "id": "3a4f831c",
   "metadata": {},
   "outputs": [
    {
     "data": {
      "text/plain": [
       "'C:\\\\Users\\\\isobr\\\\OneDrive\\\\18042023ParticipationPractices'"
      ]
     },
     "execution_count": 3,
     "metadata": {},
     "output_type": "execute_result"
    }
   ],
   "source": [
    "path"
   ]
  },
  {
   "cell_type": "code",
   "execution_count": 4,
   "id": "43e4837f",
   "metadata": {},
   "outputs": [],
   "source": [
    "#importing the excel dataset\n",
    "df = pd.read_excel(os.path.join(path, 'practices_full.xlsx'), index_col = False)"
   ]
  },
  {
   "cell_type": "code",
   "execution_count": 5,
   "id": "3533716d",
   "metadata": {},
   "outputs": [
    {
     "data": {
      "text/html": [
       "<div>\n",
       "<style scoped>\n",
       "    .dataframe tbody tr th:only-of-type {\n",
       "        vertical-align: middle;\n",
       "    }\n",
       "\n",
       "    .dataframe tbody tr th {\n",
       "        vertical-align: top;\n",
       "    }\n",
       "\n",
       "    .dataframe thead th {\n",
       "        text-align: right;\n",
       "    }\n",
       "</style>\n",
       "<table border=\"1\" class=\"dataframe\">\n",
       "  <thead>\n",
       "    <tr style=\"text-align: right;\">\n",
       "      <th></th>\n",
       "      <th>ID</th>\n",
       "      <th>title</th>\n",
       "      <th>CS</th>\n",
       "      <th>source</th>\n",
       "      <th>year_pub</th>\n",
       "      <th>year_pro</th>\n",
       "      <th>publisher</th>\n",
       "      <th>link</th>\n",
       "      <th>province_state</th>\n",
       "      <th>country</th>\n",
       "      <th>...</th>\n",
       "      <th>innovation</th>\n",
       "      <th>tax</th>\n",
       "      <th>new jobs</th>\n",
       "      <th>tourism</th>\n",
       "      <th>energy price</th>\n",
       "      <th>property price</th>\n",
       "      <th>livelihoods</th>\n",
       "      <th>eco_imp</th>\n",
       "      <th>imp_score</th>\n",
       "      <th>perceived_imp</th>\n",
       "    </tr>\n",
       "  </thead>\n",
       "  <tbody>\n",
       "    <tr>\n",
       "      <th>0</th>\n",
       "      <td>a1</td>\n",
       "      <td>Popular and institutional opposition to the Se...</td>\n",
       "      <td>yes</td>\n",
       "      <td>Wiki</td>\n",
       "      <td>2022</td>\n",
       "      <td>2021.0</td>\n",
       "      <td>EJ Atlas</td>\n",
       "      <td>https://ejatlas.org/conflict/popular-and-insti...</td>\n",
       "      <td>Catalonia</td>\n",
       "      <td>Spain</td>\n",
       "      <td>...</td>\n",
       "      <td>0</td>\n",
       "      <td>0</td>\n",
       "      <td>1</td>\n",
       "      <td>1</td>\n",
       "      <td>0</td>\n",
       "      <td>0</td>\n",
       "      <td>0</td>\n",
       "      <td>2</td>\n",
       "      <td>6</td>\n",
       "      <td>Moderate negative</td>\n",
       "    </tr>\n",
       "    <tr>\n",
       "      <th>1</th>\n",
       "      <td>a2</td>\n",
       "      <td>Proteste gegen Verspargelung und Flächenfraß</td>\n",
       "      <td>yes</td>\n",
       "      <td>News media</td>\n",
       "      <td>2019</td>\n",
       "      <td>2019.0</td>\n",
       "      <td>deutschlandfunk Kultur</td>\n",
       "      <td>https://www.deutschlandfunkkultur.de/windenerg...</td>\n",
       "      <td>Mecklenburg-Western Pomerania</td>\n",
       "      <td>Germany</td>\n",
       "      <td>...</td>\n",
       "      <td>0</td>\n",
       "      <td>0</td>\n",
       "      <td>0</td>\n",
       "      <td>0</td>\n",
       "      <td>0</td>\n",
       "      <td>0</td>\n",
       "      <td>0</td>\n",
       "      <td>0</td>\n",
       "      <td>3</td>\n",
       "      <td>Moderate negative</td>\n",
       "    </tr>\n",
       "    <tr>\n",
       "      <th>2</th>\n",
       "      <td>a3</td>\n",
       "      <td>Greta Thunberg has joined a protest against wi...</td>\n",
       "      <td>yes</td>\n",
       "      <td>News media</td>\n",
       "      <td>2023</td>\n",
       "      <td>2021.0</td>\n",
       "      <td>CNN</td>\n",
       "      <td>https://edition.cnn.com/2023/03/01/europe/gret...</td>\n",
       "      <td>Fosen</td>\n",
       "      <td>Norway</td>\n",
       "      <td>...</td>\n",
       "      <td>0</td>\n",
       "      <td>0</td>\n",
       "      <td>0</td>\n",
       "      <td>0</td>\n",
       "      <td>0</td>\n",
       "      <td>0</td>\n",
       "      <td>0</td>\n",
       "      <td>0</td>\n",
       "      <td>3</td>\n",
       "      <td>Moderate negative</td>\n",
       "    </tr>\n",
       "    <tr>\n",
       "      <th>3</th>\n",
       "      <td>a4</td>\n",
       "      <td>Combining offshore wind farms, nature conserva...</td>\n",
       "      <td>no</td>\n",
       "      <td>Journal article</td>\n",
       "      <td>2021</td>\n",
       "      <td>2021.0</td>\n",
       "      <td>Marine Policy</td>\n",
       "      <td>https://www.sciencedirect.com/science/article/...</td>\n",
       "      <td>Not Applicable</td>\n",
       "      <td>Netherlands</td>\n",
       "      <td>...</td>\n",
       "      <td>0</td>\n",
       "      <td>0</td>\n",
       "      <td>1</td>\n",
       "      <td>0</td>\n",
       "      <td>0</td>\n",
       "      <td>0</td>\n",
       "      <td>0</td>\n",
       "      <td>1</td>\n",
       "      <td>4</td>\n",
       "      <td>Neutral</td>\n",
       "    </tr>\n",
       "    <tr>\n",
       "      <th>4</th>\n",
       "      <td>a5</td>\n",
       "      <td>Learning from the social impacts associated wi...</td>\n",
       "      <td>yes</td>\n",
       "      <td>Journal article</td>\n",
       "      <td>2021</td>\n",
       "      <td>2008.0</td>\n",
       "      <td>Impact Assessment and Project Appraisal</td>\n",
       "      <td>https://www.tandfonline.com/doi/full/10.1080/1...</td>\n",
       "      <td>Urk</td>\n",
       "      <td>Netherlands</td>\n",
       "      <td>...</td>\n",
       "      <td>1</td>\n",
       "      <td>0</td>\n",
       "      <td>0</td>\n",
       "      <td>1</td>\n",
       "      <td>0</td>\n",
       "      <td>0</td>\n",
       "      <td>1</td>\n",
       "      <td>3</td>\n",
       "      <td>6</td>\n",
       "      <td>Moderate negative</td>\n",
       "    </tr>\n",
       "  </tbody>\n",
       "</table>\n",
       "<p>5 rows × 70 columns</p>\n",
       "</div>"
      ],
      "text/plain": [
       "   ID                                              title   CS  \\\n",
       "0  a1  Popular and institutional opposition to the Se...  yes   \n",
       "1  a2       Proteste gegen Verspargelung und Flächenfraß  yes   \n",
       "2  a3  Greta Thunberg has joined a protest against wi...  yes   \n",
       "3  a4  Combining offshore wind farms, nature conserva...   no   \n",
       "4  a5  Learning from the social impacts associated wi...  yes   \n",
       "\n",
       "            source  year_pub  year_pro  \\\n",
       "0             Wiki      2022    2021.0   \n",
       "1      News media       2019    2019.0   \n",
       "2      News media       2023    2021.0   \n",
       "3  Journal article      2021    2021.0   \n",
       "4  Journal article      2021    2008.0   \n",
       "\n",
       "                                 publisher  \\\n",
       "0                                 EJ Atlas   \n",
       "1                   deutschlandfunk Kultur   \n",
       "2                                      CNN   \n",
       "3                            Marine Policy   \n",
       "4  Impact Assessment and Project Appraisal   \n",
       "\n",
       "                                                link  \\\n",
       "0  https://ejatlas.org/conflict/popular-and-insti...   \n",
       "1  https://www.deutschlandfunkkultur.de/windenerg...   \n",
       "2  https://edition.cnn.com/2023/03/01/europe/gret...   \n",
       "3  https://www.sciencedirect.com/science/article/...   \n",
       "4  https://www.tandfonline.com/doi/full/10.1080/1...   \n",
       "\n",
       "                  province_state      country  ... innovation tax  new jobs  \\\n",
       "0                      Catalonia        Spain  ...          0   0         1   \n",
       "1  Mecklenburg-Western Pomerania      Germany  ...          0   0         0   \n",
       "2                         Fosen        Norway  ...          0   0         0   \n",
       "3                 Not Applicable  Netherlands  ...          0   0         1   \n",
       "4                            Urk  Netherlands  ...          1   0         0   \n",
       "\n",
       "   tourism  energy price  property price  livelihoods  eco_imp  imp_score  \\\n",
       "0        1             0               0            0        2          6   \n",
       "1        0             0               0            0        0          3   \n",
       "2        0             0               0            0        0          3   \n",
       "3        0             0               0            0        1          4   \n",
       "4        1             0               0            1        3          6   \n",
       "\n",
       "        perceived_imp  \n",
       "0  Moderate negative   \n",
       "1  Moderate negative   \n",
       "2  Moderate negative   \n",
       "3            Neutral   \n",
       "4  Moderate negative   \n",
       "\n",
       "[5 rows x 70 columns]"
      ]
     },
     "execution_count": 5,
     "metadata": {},
     "output_type": "execute_result"
    }
   ],
   "source": [
    "df.head()"
   ]
  },
  {
   "cell_type": "code",
   "execution_count": 6,
   "id": "7400e6f8",
   "metadata": {},
   "outputs": [
    {
     "data": {
      "text/plain": [
       "(397, 70)"
      ]
     },
     "execution_count": 6,
     "metadata": {},
     "output_type": "execute_result"
    }
   ],
   "source": [
    "df.shape"
   ]
  },
  {
   "cell_type": "code",
   "execution_count": 7,
   "id": "63913498",
   "metadata": {},
   "outputs": [
    {
     "data": {
      "text/plain": [
       "Index(['ID', 'title', 'CS', 'source', 'year_pub', 'year_pro', 'publisher',\n",
       "       'link', 'province_state', 'country', 'region', 'technology',\n",
       "       'n_turbines', 'capacity', 'local community', 'communities interest',\n",
       "       'public', 'small investors', 'cooperative', 'NGO', 'organisation',\n",
       "       'government', 'municipality', 'experts', 'investors', 'turbines',\n",
       "       'onshore farm', 'offshore farm', 'company', 'policy', 'community ',\n",
       "       'repowering', 'other', 'mandate', 'main_level', 'level_score',\n",
       "       'other_levels', 'alibi', 'resistance', 'information', 'consultation ',\n",
       "       'financial ', 'cooperation ', 'scale', 'timing', 'opportunities',\n",
       "       'opportunities_score', 'noise', 'shadow-flicker', 'safety', 'health',\n",
       "       'landuse', 'access energy', 'awareness', 'community fund', 'soc_imp',\n",
       "       'emissions', 'biodiversity', 'landscape', 'env_imp', 'innovation',\n",
       "       'tax', 'new jobs', 'tourism', 'energy price', 'property price',\n",
       "       'livelihoods', 'eco_imp', 'imp_score', 'perceived_imp'],\n",
       "      dtype='object')"
      ]
     },
     "execution_count": 7,
     "metadata": {},
     "output_type": "execute_result"
    }
   ],
   "source": [
    "df.columns"
   ]
  },
  {
   "cell_type": "markdown",
   "id": "8724d433",
   "metadata": {},
   "source": [
    "### 2. Subsetting data "
   ]
  },
  {
   "cell_type": "code",
   "execution_count": 8,
   "id": "17627f57",
   "metadata": {},
   "outputs": [],
   "source": [
    "sub=['local community', 'communities interest',\n",
    "       'public', 'small investors', 'cooperative', 'NGO', 'organisation',\n",
    "       'government', 'municipality', 'experts', 'investors']"
   ]
  },
  {
   "cell_type": "code",
   "execution_count": 9,
   "id": "acd2e90d",
   "metadata": {},
   "outputs": [],
   "source": [
    "obj=['turbines','onshore farm', 'offshore farm', 'company', 'policy', 'community ',\n",
    "     'repowering', 'other']"
   ]
  },
  {
   "cell_type": "code",
   "execution_count": 10,
   "id": "a5e7e6cf",
   "metadata": {},
   "outputs": [],
   "source": [
    "soimps=['noise', 'shadow-flicker', 'safety', 'health',\n",
    "       'landuse', 'access energy', 'awareness', 'community fund']"
   ]
  },
  {
   "cell_type": "code",
   "execution_count": 11,
   "id": "afd2fa4a",
   "metadata": {},
   "outputs": [],
   "source": [
    "enimps=['emissions', 'biodiversity', 'landscape']"
   ]
  },
  {
   "cell_type": "code",
   "execution_count": 12,
   "id": "9133c0b6",
   "metadata": {},
   "outputs": [],
   "source": [
    "ecimps=['innovation','tax', 'new jobs', 'tourism', 'energy price', 'property price',\n",
    "       'livelihoods']"
   ]
  },
  {
   "cell_type": "markdown",
   "id": "de3f4c6e",
   "metadata": {},
   "source": [
    "##### 2.1 Subjects of Participation"
   ]
  },
  {
   "cell_type": "code",
   "execution_count": 13,
   "id": "eb506c93",
   "metadata": {},
   "outputs": [],
   "source": [
    "subjects=df[sub]"
   ]
  },
  {
   "cell_type": "code",
   "execution_count": 14,
   "id": "cbb6eac1",
   "metadata": {},
   "outputs": [
    {
     "data": {
      "text/html": [
       "<div>\n",
       "<style scoped>\n",
       "    .dataframe tbody tr th:only-of-type {\n",
       "        vertical-align: middle;\n",
       "    }\n",
       "\n",
       "    .dataframe tbody tr th {\n",
       "        vertical-align: top;\n",
       "    }\n",
       "\n",
       "    .dataframe thead th {\n",
       "        text-align: right;\n",
       "    }\n",
       "</style>\n",
       "<table border=\"1\" class=\"dataframe\">\n",
       "  <thead>\n",
       "    <tr style=\"text-align: right;\">\n",
       "      <th></th>\n",
       "      <th>local community</th>\n",
       "      <th>communities interest</th>\n",
       "      <th>public</th>\n",
       "      <th>small investors</th>\n",
       "      <th>cooperative</th>\n",
       "      <th>NGO</th>\n",
       "      <th>organisation</th>\n",
       "      <th>government</th>\n",
       "      <th>municipality</th>\n",
       "      <th>experts</th>\n",
       "      <th>investors</th>\n",
       "    </tr>\n",
       "  </thead>\n",
       "  <tbody>\n",
       "    <tr>\n",
       "      <th>0</th>\n",
       "      <td>1</td>\n",
       "      <td>0</td>\n",
       "      <td>1</td>\n",
       "      <td>0</td>\n",
       "      <td>0</td>\n",
       "      <td>0</td>\n",
       "      <td>0</td>\n",
       "      <td>0</td>\n",
       "      <td>1</td>\n",
       "      <td>0</td>\n",
       "      <td>0</td>\n",
       "    </tr>\n",
       "    <tr>\n",
       "      <th>1</th>\n",
       "      <td>1</td>\n",
       "      <td>0</td>\n",
       "      <td>1</td>\n",
       "      <td>0</td>\n",
       "      <td>0</td>\n",
       "      <td>0</td>\n",
       "      <td>0</td>\n",
       "      <td>0</td>\n",
       "      <td>0</td>\n",
       "      <td>0</td>\n",
       "      <td>0</td>\n",
       "    </tr>\n",
       "    <tr>\n",
       "      <th>2</th>\n",
       "      <td>1</td>\n",
       "      <td>0</td>\n",
       "      <td>0</td>\n",
       "      <td>0</td>\n",
       "      <td>0</td>\n",
       "      <td>0</td>\n",
       "      <td>0</td>\n",
       "      <td>0</td>\n",
       "      <td>0</td>\n",
       "      <td>0</td>\n",
       "      <td>0</td>\n",
       "    </tr>\n",
       "    <tr>\n",
       "      <th>3</th>\n",
       "      <td>0</td>\n",
       "      <td>1</td>\n",
       "      <td>0</td>\n",
       "      <td>0</td>\n",
       "      <td>0</td>\n",
       "      <td>1</td>\n",
       "      <td>1</td>\n",
       "      <td>1</td>\n",
       "      <td>1</td>\n",
       "      <td>1</td>\n",
       "      <td>1</td>\n",
       "    </tr>\n",
       "    <tr>\n",
       "      <th>4</th>\n",
       "      <td>0</td>\n",
       "      <td>0</td>\n",
       "      <td>0</td>\n",
       "      <td>0</td>\n",
       "      <td>0</td>\n",
       "      <td>1</td>\n",
       "      <td>0</td>\n",
       "      <td>0</td>\n",
       "      <td>0</td>\n",
       "      <td>0</td>\n",
       "      <td>0</td>\n",
       "    </tr>\n",
       "  </tbody>\n",
       "</table>\n",
       "</div>"
      ],
      "text/plain": [
       "   local community  communities interest  public  small investors  \\\n",
       "0                1                     0       1                0   \n",
       "1                1                     0       1                0   \n",
       "2                1                     0       0                0   \n",
       "3                0                     1       0                0   \n",
       "4                0                     0       0                0   \n",
       "\n",
       "   cooperative  NGO  organisation  government  municipality  experts  \\\n",
       "0            0    0             0           0             1        0   \n",
       "1            0    0             0           0             0        0   \n",
       "2            0    0             0           0             0        0   \n",
       "3            0    1             1           1             1        1   \n",
       "4            0    1             0           0             0        0   \n",
       "\n",
       "   investors  \n",
       "0          0  \n",
       "1          0  \n",
       "2          0  \n",
       "3          1  \n",
       "4          0  "
      ]
     },
     "execution_count": 14,
     "metadata": {},
     "output_type": "execute_result"
    }
   ],
   "source": [
    "subjects.head()"
   ]
  },
  {
   "cell_type": "code",
   "execution_count": 15,
   "id": "7da24e6b",
   "metadata": {},
   "outputs": [],
   "source": [
    "# This command turns the dummy data from the states columns into a categorical variable in s2, which is a pandas Series data structure\n",
    "s2 = subjects.idxmax(axis=1)"
   ]
  },
  {
   "cell_type": "code",
   "execution_count": 16,
   "id": "78cc3961",
   "metadata": {},
   "outputs": [
    {
     "data": {
      "text/plain": [
       "0           local community\n",
       "1           local community\n",
       "2           local community\n",
       "3      communities interest\n",
       "4                       NGO\n",
       "               ...         \n",
       "392         local community\n",
       "393         local community\n",
       "394         local community\n",
       "395         local community\n",
       "396         local community\n",
       "Length: 397, dtype: object"
      ]
     },
     "execution_count": 16,
     "metadata": {},
     "output_type": "execute_result"
    }
   ],
   "source": [
    "s2"
   ]
  },
  {
   "cell_type": "code",
   "execution_count": 17,
   "id": "e1f90bf9",
   "metadata": {},
   "outputs": [
    {
     "data": {
      "text/plain": [
       "local community         226\n",
       "communities interest     44\n",
       "public                   41\n",
       "cooperative              29\n",
       "municipality             15\n",
       "small investors           9\n",
       "government                9\n",
       "NGO                       6\n",
       "experts                   6\n",
       "organisation              6\n",
       "investors                 6\n",
       "dtype: int64"
      ]
     },
     "execution_count": 17,
     "metadata": {},
     "output_type": "execute_result"
    }
   ],
   "source": [
    "s2.value_counts(dropna=False)"
   ]
  },
  {
   "cell_type": "markdown",
   "id": "d87c9c77",
   "metadata": {},
   "source": [
    "For data visualizations, using the same palette from coloors for colors: https://coolors.co/palette/264653-2a9d8f-e9c46a-f4a261-e76f51"
   ]
  },
  {
   "cell_type": "code",
   "execution_count": 18,
   "id": "7bda5869",
   "metadata": {},
   "outputs": [
    {
     "data": {
      "text/plain": [
       "Text(0.5, 1.0, 'Main Subjects of Participation')"
      ]
     },
     "execution_count": 18,
     "metadata": {},
     "output_type": "execute_result"
    },
    {
     "data": {
      "image/png": "[encoded data removed]",
      "text/plain": [
       "<Figure size 640x480 with 1 Axes>"
      ]
     },
     "metadata": {},
     "output_type": "display_data"
    }
   ],
   "source": [
    "s2.value_counts().plot.bar(color=['#2A9D8F'])\n",
    "plt.xlabel(\"Subjects of Participation\", fontsize=10)\n",
    "plt.title('Main Subjects of Participation')"
   ]
  },
  {
   "cell_type": "markdown",
   "id": "32deeb39",
   "metadata": {},
   "source": [
    "#### 2.2 Objects of Participation"
   ]
  },
  {
   "cell_type": "code",
   "execution_count": 19,
   "id": "fcc71946",
   "metadata": {},
   "outputs": [],
   "source": [
    "objects=df[obj]"
   ]
  },
  {
   "cell_type": "code",
   "execution_count": 20,
   "id": "b71f7591",
   "metadata": {},
   "outputs": [
    {
     "data": {
      "text/html": [
       "<div>\n",
       "<style scoped>\n",
       "    .dataframe tbody tr th:only-of-type {\n",
       "        vertical-align: middle;\n",
       "    }\n",
       "\n",
       "    .dataframe tbody tr th {\n",
       "        vertical-align: top;\n",
       "    }\n",
       "\n",
       "    .dataframe thead th {\n",
       "        text-align: right;\n",
       "    }\n",
       "</style>\n",
       "<table border=\"1\" class=\"dataframe\">\n",
       "  <thead>\n",
       "    <tr style=\"text-align: right;\">\n",
       "      <th></th>\n",
       "      <th>turbines</th>\n",
       "      <th>onshore farm</th>\n",
       "      <th>offshore farm</th>\n",
       "      <th>company</th>\n",
       "      <th>policy</th>\n",
       "      <th>community</th>\n",
       "      <th>repowering</th>\n",
       "      <th>other</th>\n",
       "    </tr>\n",
       "  </thead>\n",
       "  <tbody>\n",
       "    <tr>\n",
       "      <th>0</th>\n",
       "      <td>0</td>\n",
       "      <td>1</td>\n",
       "      <td>0</td>\n",
       "      <td>0</td>\n",
       "      <td>0</td>\n",
       "      <td>0</td>\n",
       "      <td>0</td>\n",
       "      <td>0</td>\n",
       "    </tr>\n",
       "    <tr>\n",
       "      <th>1</th>\n",
       "      <td>0</td>\n",
       "      <td>0</td>\n",
       "      <td>0</td>\n",
       "      <td>0</td>\n",
       "      <td>0</td>\n",
       "      <td>0</td>\n",
       "      <td>1</td>\n",
       "      <td>0</td>\n",
       "    </tr>\n",
       "    <tr>\n",
       "      <th>2</th>\n",
       "      <td>0</td>\n",
       "      <td>1</td>\n",
       "      <td>0</td>\n",
       "      <td>0</td>\n",
       "      <td>0</td>\n",
       "      <td>0</td>\n",
       "      <td>0</td>\n",
       "      <td>0</td>\n",
       "    </tr>\n",
       "    <tr>\n",
       "      <th>3</th>\n",
       "      <td>0</td>\n",
       "      <td>0</td>\n",
       "      <td>1</td>\n",
       "      <td>0</td>\n",
       "      <td>1</td>\n",
       "      <td>0</td>\n",
       "      <td>0</td>\n",
       "      <td>0</td>\n",
       "    </tr>\n",
       "    <tr>\n",
       "      <th>4</th>\n",
       "      <td>0</td>\n",
       "      <td>0</td>\n",
       "      <td>0</td>\n",
       "      <td>0</td>\n",
       "      <td>0</td>\n",
       "      <td>1</td>\n",
       "      <td>0</td>\n",
       "      <td>0</td>\n",
       "    </tr>\n",
       "  </tbody>\n",
       "</table>\n",
       "</div>"
      ],
      "text/plain": [
       "   turbines  onshore farm  offshore farm  company  policy  community   \\\n",
       "0         0             1              0        0       0           0   \n",
       "1         0             0              0        0       0           0   \n",
       "2         0             1              0        0       0           0   \n",
       "3         0             0              1        0       1           0   \n",
       "4         0             0              0        0       0           1   \n",
       "\n",
       "   repowering  other  \n",
       "0           0      0  \n",
       "1           1      0  \n",
       "2           0      0  \n",
       "3           0      0  \n",
       "4           0      0  "
      ]
     },
     "execution_count": 20,
     "metadata": {},
     "output_type": "execute_result"
    }
   ],
   "source": [
    "objects.head()"
   ]
  },
  {
   "cell_type": "code",
   "execution_count": 21,
   "id": "aaf65f43",
   "metadata": {},
   "outputs": [],
   "source": [
    "o2 = objects.idxmax(axis=1)"
   ]
  },
  {
   "cell_type": "code",
   "execution_count": 22,
   "id": "9179e9ce",
   "metadata": {},
   "outputs": [
    {
     "data": {
      "text/plain": [
       "0       onshore farm\n",
       "1         repowering\n",
       "2       onshore farm\n",
       "3      offshore farm\n",
       "4         community \n",
       "           ...      \n",
       "392     onshore farm\n",
       "393         turbines\n",
       "394         turbines\n",
       "395     onshore farm\n",
       "396     onshore farm\n",
       "Length: 397, dtype: object"
      ]
     },
     "execution_count": 22,
     "metadata": {},
     "output_type": "execute_result"
    }
   ],
   "source": [
    "o2"
   ]
  },
  {
   "cell_type": "code",
   "execution_count": 23,
   "id": "16a20c1f",
   "metadata": {},
   "outputs": [
    {
     "data": {
      "text/plain": [
       "onshore farm     163\n",
       "turbines         120\n",
       "offshore farm     53\n",
       "policy            36\n",
       "community          7\n",
       "company            7\n",
       "other              6\n",
       "repowering         5\n",
       "dtype: int64"
      ]
     },
     "execution_count": 23,
     "metadata": {},
     "output_type": "execute_result"
    }
   ],
   "source": [
    "o2.value_counts(dropna=False)"
   ]
  },
  {
   "cell_type": "code",
   "execution_count": 24,
   "id": "ee4b45c4",
   "metadata": {},
   "outputs": [
    {
     "data": {
      "text/plain": [
       "Text(0.5, 1.0, 'Main Objects of Participation')"
      ]
     },
     "execution_count": 24,
     "metadata": {},
     "output_type": "execute_result"
    },
    {
     "data": {
      "image/png": "[encoded data removed]",
      "text/plain": [
       "<Figure size 640x480 with 1 Axes>"
      ]
     },
     "metadata": {},
     "output_type": "display_data"
    }
   ],
   "source": [
    "o2.value_counts().plot.bar(color='#2a9d8f')\n",
    "plt.xlabel(\"Objects of Participation\", fontsize=10)\n",
    "plt.title('Main Objects of Participation')"
   ]
  },
  {
   "cell_type": "markdown",
   "id": "237727d2",
   "metadata": {},
   "source": [
    "#### 2.3 Analysis of Impacts"
   ]
  },
  {
   "cell_type": "code",
   "execution_count": 25,
   "id": "6b479dc3",
   "metadata": {},
   "outputs": [],
   "source": [
    "#doing the same for social impacts\n",
    "sociali=df[soimps]"
   ]
  },
  {
   "cell_type": "code",
   "execution_count": 26,
   "id": "81c0bc88",
   "metadata": {},
   "outputs": [
    {
     "data": {
      "text/html": [
       "<div>\n",
       "<style scoped>\n",
       "    .dataframe tbody tr th:only-of-type {\n",
       "        vertical-align: middle;\n",
       "    }\n",
       "\n",
       "    .dataframe tbody tr th {\n",
       "        vertical-align: top;\n",
       "    }\n",
       "\n",
       "    .dataframe thead th {\n",
       "        text-align: right;\n",
       "    }\n",
       "</style>\n",
       "<table border=\"1\" class=\"dataframe\">\n",
       "  <thead>\n",
       "    <tr style=\"text-align: right;\">\n",
       "      <th></th>\n",
       "      <th>noise</th>\n",
       "      <th>shadow-flicker</th>\n",
       "      <th>safety</th>\n",
       "      <th>health</th>\n",
       "      <th>landuse</th>\n",
       "      <th>access energy</th>\n",
       "      <th>awareness</th>\n",
       "      <th>community fund</th>\n",
       "    </tr>\n",
       "  </thead>\n",
       "  <tbody>\n",
       "    <tr>\n",
       "      <th>0</th>\n",
       "      <td>1</td>\n",
       "      <td>0</td>\n",
       "      <td>0</td>\n",
       "      <td>1</td>\n",
       "      <td>1</td>\n",
       "      <td>0</td>\n",
       "      <td>0</td>\n",
       "      <td>0</td>\n",
       "    </tr>\n",
       "    <tr>\n",
       "      <th>1</th>\n",
       "      <td>0</td>\n",
       "      <td>1</td>\n",
       "      <td>0</td>\n",
       "      <td>0</td>\n",
       "      <td>0</td>\n",
       "      <td>0</td>\n",
       "      <td>0</td>\n",
       "      <td>0</td>\n",
       "    </tr>\n",
       "    <tr>\n",
       "      <th>2</th>\n",
       "      <td>0</td>\n",
       "      <td>0</td>\n",
       "      <td>0</td>\n",
       "      <td>0</td>\n",
       "      <td>1</td>\n",
       "      <td>0</td>\n",
       "      <td>0</td>\n",
       "      <td>0</td>\n",
       "    </tr>\n",
       "    <tr>\n",
       "      <th>3</th>\n",
       "      <td>0</td>\n",
       "      <td>0</td>\n",
       "      <td>0</td>\n",
       "      <td>0</td>\n",
       "      <td>0</td>\n",
       "      <td>0</td>\n",
       "      <td>0</td>\n",
       "      <td>0</td>\n",
       "    </tr>\n",
       "    <tr>\n",
       "      <th>4</th>\n",
       "      <td>0</td>\n",
       "      <td>0</td>\n",
       "      <td>0</td>\n",
       "      <td>0</td>\n",
       "      <td>1</td>\n",
       "      <td>0</td>\n",
       "      <td>0</td>\n",
       "      <td>0</td>\n",
       "    </tr>\n",
       "  </tbody>\n",
       "</table>\n",
       "</div>"
      ],
      "text/plain": [
       "   noise  shadow-flicker  safety  health  landuse  access energy  awareness  \\\n",
       "0      1               0       0       1        1              0          0   \n",
       "1      0               1       0       0        0              0          0   \n",
       "2      0               0       0       0        1              0          0   \n",
       "3      0               0       0       0        0              0          0   \n",
       "4      0               0       0       0        1              0          0   \n",
       "\n",
       "   community fund  \n",
       "0               0  \n",
       "1               0  \n",
       "2               0  \n",
       "3               0  \n",
       "4               0  "
      ]
     },
     "execution_count": 26,
     "metadata": {},
     "output_type": "execute_result"
    }
   ],
   "source": [
    "sociali.head()"
   ]
  },
  {
   "cell_type": "code",
   "execution_count": 27,
   "id": "3a0c074f",
   "metadata": {},
   "outputs": [],
   "source": [
    "a2 = sociali.idxmax(axis=1)"
   ]
  },
  {
   "cell_type": "code",
   "execution_count": 28,
   "id": "98458d8e",
   "metadata": {},
   "outputs": [
    {
     "data": {
      "text/plain": [
       "0               noise\n",
       "1      shadow-flicker\n",
       "2             landuse\n",
       "3               noise\n",
       "4             landuse\n",
       "            ...      \n",
       "392     access energy\n",
       "393             noise\n",
       "394     access energy\n",
       "395           landuse\n",
       "396           landuse\n",
       "Length: 397, dtype: object"
      ]
     },
     "execution_count": 28,
     "metadata": {},
     "output_type": "execute_result"
    }
   ],
   "source": [
    "a2"
   ]
  },
  {
   "cell_type": "code",
   "execution_count": 29,
   "id": "5f626cb3",
   "metadata": {},
   "outputs": [
    {
     "data": {
      "text/plain": [
       "noise             172\n",
       "awareness          77\n",
       "landuse            54\n",
       "access energy      38\n",
       "community fund     30\n",
       "health             13\n",
       "safety              7\n",
       "shadow-flicker      6\n",
       "dtype: int64"
      ]
     },
     "execution_count": 29,
     "metadata": {},
     "output_type": "execute_result"
    }
   ],
   "source": [
    "a2.value_counts(dropna=False)"
   ]
  },
  {
   "cell_type": "code",
   "execution_count": 30,
   "id": "65a1dbae",
   "metadata": {},
   "outputs": [
    {
     "data": {
      "text/plain": [
       "Text(0.5, 1.0, 'Main Social Impacts of Projects')"
      ]
     },
     "execution_count": 30,
     "metadata": {},
     "output_type": "execute_result"
    },
    {
     "data": {
      "image/png": "[encoded data removed]",
      "text/plain": [
       "<Figure size 640x480 with 1 Axes>"
      ]
     },
     "metadata": {},
     "output_type": "display_data"
    }
   ],
   "source": [
    "a2.value_counts().plot.bar(color='#2a9d8f')\n",
    "plt.xlabel(\"Social Impacts of Projects\", fontsize=10)\n",
    "plt.title('Main Social Impacts of Projects')"
   ]
  },
  {
   "cell_type": "code",
   "execution_count": 31,
   "id": "3beaf029",
   "metadata": {},
   "outputs": [],
   "source": [
    "#the same for environmental impacts\n",
    "envi=df[enimps]"
   ]
  },
  {
   "cell_type": "code",
   "execution_count": 32,
   "id": "4bbf8861",
   "metadata": {},
   "outputs": [
    {
     "data": {
      "text/html": [
       "<div>\n",
       "<style scoped>\n",
       "    .dataframe tbody tr th:only-of-type {\n",
       "        vertical-align: middle;\n",
       "    }\n",
       "\n",
       "    .dataframe tbody tr th {\n",
       "        vertical-align: top;\n",
       "    }\n",
       "\n",
       "    .dataframe thead th {\n",
       "        text-align: right;\n",
       "    }\n",
       "</style>\n",
       "<table border=\"1\" class=\"dataframe\">\n",
       "  <thead>\n",
       "    <tr style=\"text-align: right;\">\n",
       "      <th></th>\n",
       "      <th>emissions</th>\n",
       "      <th>biodiversity</th>\n",
       "      <th>landscape</th>\n",
       "    </tr>\n",
       "  </thead>\n",
       "  <tbody>\n",
       "    <tr>\n",
       "      <th>0</th>\n",
       "      <td>0</td>\n",
       "      <td>1</td>\n",
       "      <td>0</td>\n",
       "    </tr>\n",
       "    <tr>\n",
       "      <th>1</th>\n",
       "      <td>0</td>\n",
       "      <td>1</td>\n",
       "      <td>1</td>\n",
       "    </tr>\n",
       "    <tr>\n",
       "      <th>2</th>\n",
       "      <td>0</td>\n",
       "      <td>1</td>\n",
       "      <td>1</td>\n",
       "    </tr>\n",
       "    <tr>\n",
       "      <th>3</th>\n",
       "      <td>1</td>\n",
       "      <td>1</td>\n",
       "      <td>1</td>\n",
       "    </tr>\n",
       "    <tr>\n",
       "      <th>4</th>\n",
       "      <td>0</td>\n",
       "      <td>1</td>\n",
       "      <td>1</td>\n",
       "    </tr>\n",
       "  </tbody>\n",
       "</table>\n",
       "</div>"
      ],
      "text/plain": [
       "   emissions  biodiversity  landscape\n",
       "0          0             1          0\n",
       "1          0             1          1\n",
       "2          0             1          1\n",
       "3          1             1          1\n",
       "4          0             1          1"
      ]
     },
     "execution_count": 32,
     "metadata": {},
     "output_type": "execute_result"
    }
   ],
   "source": [
    "envi.head()"
   ]
  },
  {
   "cell_type": "code",
   "execution_count": 33,
   "id": "938d8848",
   "metadata": {},
   "outputs": [],
   "source": [
    "#create new series\n",
    "e2 = envi.idxmax(axis=1)"
   ]
  },
  {
   "cell_type": "code",
   "execution_count": 34,
   "id": "7c88e979",
   "metadata": {},
   "outputs": [
    {
     "data": {
      "text/plain": [
       "0      biodiversity\n",
       "1      biodiversity\n",
       "2      biodiversity\n",
       "3         emissions\n",
       "4      biodiversity\n",
       "           ...     \n",
       "392       emissions\n",
       "393       emissions\n",
       "394       emissions\n",
       "395    biodiversity\n",
       "396       emissions\n",
       "Length: 397, dtype: object"
      ]
     },
     "execution_count": 34,
     "metadata": {},
     "output_type": "execute_result"
    }
   ],
   "source": [
    "e2"
   ]
  },
  {
   "cell_type": "code",
   "execution_count": 35,
   "id": "1a504657",
   "metadata": {},
   "outputs": [
    {
     "data": {
      "text/plain": [
       "emissions       301\n",
       "biodiversity     67\n",
       "landscape        29\n",
       "dtype: int64"
      ]
     },
     "execution_count": 35,
     "metadata": {},
     "output_type": "execute_result"
    }
   ],
   "source": [
    "e2.value_counts(dropna=False)"
   ]
  },
  {
   "cell_type": "code",
   "execution_count": 36,
   "id": "7d62a29e",
   "metadata": {},
   "outputs": [
    {
     "data": {
      "text/plain": [
       "Text(0.5, 1.0, 'Main Environmental Impacts of Projects')"
      ]
     },
     "execution_count": 36,
     "metadata": {},
     "output_type": "execute_result"
    },
    {
     "data": {
      "image/png": "[encoded data removed]",
      "text/plain": [
       "<Figure size 640x480 with 1 Axes>"
      ]
     },
     "metadata": {},
     "output_type": "display_data"
    }
   ],
   "source": [
    "e2.value_counts().plot.bar(color='#2a9d8f')\n",
    "plt.xlabel(\"Environmental Impacts of Projects\", fontsize=10)\n",
    "plt.title('Main Environmental Impacts of Projects')"
   ]
  },
  {
   "cell_type": "code",
   "execution_count": 37,
   "id": "ac12a076",
   "metadata": {},
   "outputs": [],
   "source": [
    "#lastly, the same for the economic impacts\n",
    "ecoi=df[ecimps]"
   ]
  },
  {
   "cell_type": "code",
   "execution_count": 38,
   "id": "ec431f75",
   "metadata": {},
   "outputs": [
    {
     "data": {
      "text/html": [
       "<div>\n",
       "<style scoped>\n",
       "    .dataframe tbody tr th:only-of-type {\n",
       "        vertical-align: middle;\n",
       "    }\n",
       "\n",
       "    .dataframe tbody tr th {\n",
       "        vertical-align: top;\n",
       "    }\n",
       "\n",
       "    .dataframe thead th {\n",
       "        text-align: right;\n",
       "    }\n",
       "</style>\n",
       "<table border=\"1\" class=\"dataframe\">\n",
       "  <thead>\n",
       "    <tr style=\"text-align: right;\">\n",
       "      <th></th>\n",
       "      <th>innovation</th>\n",
       "      <th>tax</th>\n",
       "      <th>new jobs</th>\n",
       "      <th>tourism</th>\n",
       "      <th>energy price</th>\n",
       "      <th>property price</th>\n",
       "      <th>livelihoods</th>\n",
       "    </tr>\n",
       "  </thead>\n",
       "  <tbody>\n",
       "    <tr>\n",
       "      <th>0</th>\n",
       "      <td>0</td>\n",
       "      <td>0</td>\n",
       "      <td>1</td>\n",
       "      <td>1</td>\n",
       "      <td>0</td>\n",
       "      <td>0</td>\n",
       "      <td>0</td>\n",
       "    </tr>\n",
       "    <tr>\n",
       "      <th>1</th>\n",
       "      <td>0</td>\n",
       "      <td>0</td>\n",
       "      <td>0</td>\n",
       "      <td>0</td>\n",
       "      <td>0</td>\n",
       "      <td>0</td>\n",
       "      <td>0</td>\n",
       "    </tr>\n",
       "    <tr>\n",
       "      <th>2</th>\n",
       "      <td>0</td>\n",
       "      <td>0</td>\n",
       "      <td>0</td>\n",
       "      <td>0</td>\n",
       "      <td>0</td>\n",
       "      <td>0</td>\n",
       "      <td>0</td>\n",
       "    </tr>\n",
       "    <tr>\n",
       "      <th>3</th>\n",
       "      <td>0</td>\n",
       "      <td>0</td>\n",
       "      <td>1</td>\n",
       "      <td>0</td>\n",
       "      <td>0</td>\n",
       "      <td>0</td>\n",
       "      <td>0</td>\n",
       "    </tr>\n",
       "    <tr>\n",
       "      <th>4</th>\n",
       "      <td>1</td>\n",
       "      <td>0</td>\n",
       "      <td>0</td>\n",
       "      <td>1</td>\n",
       "      <td>0</td>\n",
       "      <td>0</td>\n",
       "      <td>1</td>\n",
       "    </tr>\n",
       "  </tbody>\n",
       "</table>\n",
       "</div>"
      ],
      "text/plain": [
       "   innovation  tax  new jobs  tourism  energy price  property price  \\\n",
       "0           0    0         1        1             0               0   \n",
       "1           0    0         0        0             0               0   \n",
       "2           0    0         0        0             0               0   \n",
       "3           0    0         1        0             0               0   \n",
       "4           1    0         0        1             0               0   \n",
       "\n",
       "   livelihoods  \n",
       "0            0  \n",
       "1            0  \n",
       "2            0  \n",
       "3            0  \n",
       "4            1  "
      ]
     },
     "execution_count": 38,
     "metadata": {},
     "output_type": "execute_result"
    }
   ],
   "source": [
    "ecoi.head()"
   ]
  },
  {
   "cell_type": "code",
   "execution_count": 39,
   "id": "bbeec7e8",
   "metadata": {},
   "outputs": [],
   "source": [
    "#create new series\n",
    "e3 = ecoi.idxmax(axis=1)"
   ]
  },
  {
   "cell_type": "code",
   "execution_count": 40,
   "id": "4b40d6f7",
   "metadata": {},
   "outputs": [
    {
     "data": {
      "text/plain": [
       "0        new jobs\n",
       "1      innovation\n",
       "2      innovation\n",
       "3        new jobs\n",
       "4      innovation\n",
       "          ...    \n",
       "392    innovation\n",
       "393    innovation\n",
       "394    innovation\n",
       "395      new jobs\n",
       "396    innovation\n",
       "Length: 397, dtype: object"
      ]
     },
     "execution_count": 40,
     "metadata": {},
     "output_type": "execute_result"
    }
   ],
   "source": [
    "e3"
   ]
  },
  {
   "cell_type": "code",
   "execution_count": 41,
   "id": "cf893cd2",
   "metadata": {},
   "outputs": [
    {
     "data": {
      "text/plain": [
       "innovation        212\n",
       "new jobs           70\n",
       "energy price       41\n",
       "livelihoods        30\n",
       "tax                19\n",
       "tourism            14\n",
       "property price     11\n",
       "dtype: int64"
      ]
     },
     "execution_count": 41,
     "metadata": {},
     "output_type": "execute_result"
    }
   ],
   "source": [
    "e3.value_counts(dropna=False)"
   ]
  },
  {
   "cell_type": "code",
   "execution_count": 42,
   "id": "bb925e79",
   "metadata": {},
   "outputs": [
    {
     "data": {
      "text/plain": [
       "Text(0.5, 1.0, 'Main Economic Impacts of Projects')"
      ]
     },
     "execution_count": 42,
     "metadata": {},
     "output_type": "execute_result"
    },
    {
     "data": {
      "image/png": "[encoded data removed]",
      "text/plain": [
       "<Figure size 640x480 with 1 Axes>"
      ]
     },
     "metadata": {},
     "output_type": "display_data"
    }
   ],
   "source": [
    "e3.value_counts().plot.bar(color='#2a9d8f')\n",
    "plt.xlabel(\"Economic Impacts of Projects\", fontsize=10)\n",
    "plt.title('Main Economic Impacts of Projects')"
   ]
  },
  {
   "cell_type": "code",
   "execution_count": 43,
   "id": "990274c3",
   "metadata": {},
   "outputs": [
    {
     "data": {
      "text/plain": [
       "Index(['ID', 'title', 'CS', 'source', 'year_pub', 'year_pro', 'publisher',\n",
       "       'link', 'province_state', 'country', 'region', 'technology',\n",
       "       'n_turbines', 'capacity', 'local community', 'communities interest',\n",
       "       'public', 'small investors', 'cooperative', 'NGO', 'organisation',\n",
       "       'government', 'municipality', 'experts', 'investors', 'turbines',\n",
       "       'onshore farm', 'offshore farm', 'company', 'policy', 'community ',\n",
       "       'repowering', 'other', 'mandate', 'main_level', 'level_score',\n",
       "       'other_levels', 'alibi', 'resistance', 'information', 'consultation ',\n",
       "       'financial ', 'cooperation ', 'scale', 'timing', 'opportunities',\n",
       "       'opportunities_score', 'noise', 'shadow-flicker', 'safety', 'health',\n",
       "       'landuse', 'access energy', 'awareness', 'community fund', 'soc_imp',\n",
       "       'emissions', 'biodiversity', 'landscape', 'env_imp', 'innovation',\n",
       "       'tax', 'new jobs', 'tourism', 'energy price', 'property price',\n",
       "       'livelihoods', 'eco_imp', 'imp_score', 'perceived_imp'],\n",
       "      dtype='object')"
      ]
     },
     "execution_count": 43,
     "metadata": {},
     "output_type": "execute_result"
    }
   ],
   "source": [
    "df.columns"
   ]
  },
  {
   "cell_type": "code",
   "execution_count": 51,
   "id": "6e81e076",
   "metadata": {},
   "outputs": [
    {
     "data": {
      "text/plain": [
       "Moderate positive     165\n",
       "Neutral                79\n",
       "Many positive          71\n",
       "Moderate negative      66\n",
       "Many negative          16\n",
       "Name: perceived_imp, dtype: int64"
      ]
     },
     "execution_count": 51,
     "metadata": {},
     "output_type": "execute_result"
    }
   ],
   "source": [
    "df['perceived_imp'].value_counts()"
   ]
  },
  {
   "cell_type": "code",
   "execution_count": 49,
   "id": "487402ee",
   "metadata": {},
   "outputs": [
    {
     "data": {
      "text/plain": [
       "Text(0.5, 1.0, 'Perceived Impacts of Projects')"
      ]
     },
     "execution_count": 49,
     "metadata": {},
     "output_type": "execute_result"
    },
    {
     "data": {
      "image/png": "[encoded data removed]",
      "text/plain": [
       "<Figure size 640x480 with 1 Axes>"
      ]
     },
     "metadata": {},
     "output_type": "display_data"
    }
   ],
   "source": [
    "df['perceived_imp'].value_counts(normalize=True).plot.bar(color='#F4A261')\n",
    "plt.xlabel(\"Perceived Impacts\", fontsize=10)\n",
    "plt.ylabel(\"Frequency\", fontsize=10)\n",
    "plt.title('Perceived Impacts of Projects')"
   ]
  },
  {
   "cell_type": "code",
   "execution_count": 45,
   "id": "1929c8eb",
   "metadata": {},
   "outputs": [
    {
     "data": {
      "text/html": [
       "<div>\n",
       "<style scoped>\n",
       "    .dataframe tbody tr th:only-of-type {\n",
       "        vertical-align: middle;\n",
       "    }\n",
       "\n",
       "    .dataframe tbody tr th {\n",
       "        vertical-align: top;\n",
       "    }\n",
       "\n",
       "    .dataframe thead th {\n",
       "        text-align: right;\n",
       "    }\n",
       "</style>\n",
       "<table border=\"1\" class=\"dataframe\">\n",
       "  <thead>\n",
       "    <tr style=\"text-align: right;\">\n",
       "      <th>main_level</th>\n",
       "      <th>Alibi</th>\n",
       "      <th>Consultation</th>\n",
       "      <th>Cooperation</th>\n",
       "      <th>Financial</th>\n",
       "      <th>Information</th>\n",
       "      <th>No participation</th>\n",
       "      <th>Resistance</th>\n",
       "    </tr>\n",
       "    <tr>\n",
       "      <th>perceived_imp</th>\n",
       "      <th></th>\n",
       "      <th></th>\n",
       "      <th></th>\n",
       "      <th></th>\n",
       "      <th></th>\n",
       "      <th></th>\n",
       "      <th></th>\n",
       "    </tr>\n",
       "  </thead>\n",
       "  <tbody>\n",
       "    <tr>\n",
       "      <th>Many negative</th>\n",
       "      <td>1.0</td>\n",
       "      <td>4.0</td>\n",
       "      <td>NaN</td>\n",
       "      <td>NaN</td>\n",
       "      <td>3.0</td>\n",
       "      <td>0.0</td>\n",
       "      <td>2.0</td>\n",
       "    </tr>\n",
       "    <tr>\n",
       "      <th>Many positive</th>\n",
       "      <td>NaN</td>\n",
       "      <td>4.0</td>\n",
       "      <td>6.0</td>\n",
       "      <td>5.0</td>\n",
       "      <td>3.0</td>\n",
       "      <td>0.0</td>\n",
       "      <td>NaN</td>\n",
       "    </tr>\n",
       "    <tr>\n",
       "      <th>Moderate negative</th>\n",
       "      <td>NaN</td>\n",
       "      <td>4.0</td>\n",
       "      <td>6.0</td>\n",
       "      <td>5.0</td>\n",
       "      <td>3.0</td>\n",
       "      <td>0.0</td>\n",
       "      <td>2.0</td>\n",
       "    </tr>\n",
       "    <tr>\n",
       "      <th>Moderate positive</th>\n",
       "      <td>1.0</td>\n",
       "      <td>4.0</td>\n",
       "      <td>6.0</td>\n",
       "      <td>5.0</td>\n",
       "      <td>3.0</td>\n",
       "      <td>0.0</td>\n",
       "      <td>2.0</td>\n",
       "    </tr>\n",
       "    <tr>\n",
       "      <th>Neutral</th>\n",
       "      <td>1.0</td>\n",
       "      <td>4.0</td>\n",
       "      <td>6.0</td>\n",
       "      <td>5.0</td>\n",
       "      <td>3.0</td>\n",
       "      <td>0.0</td>\n",
       "      <td>2.0</td>\n",
       "    </tr>\n",
       "  </tbody>\n",
       "</table>\n",
       "</div>"
      ],
      "text/plain": [
       "main_level          Alibi  Consultation  Cooperation  Financial  Information  \\\n",
       "perceived_imp                                                                  \n",
       "Many negative         1.0           4.0          NaN        NaN          3.0   \n",
       "Many positive         NaN           4.0          6.0        5.0          3.0   \n",
       "Moderate negative     NaN           4.0          6.0        5.0          3.0   \n",
       "Moderate positive     1.0           4.0          6.0        5.0          3.0   \n",
       "Neutral               1.0           4.0          6.0        5.0          3.0   \n",
       "\n",
       "main_level          No participation  Resistance  \n",
       "perceived_imp                                     \n",
       "Many negative                    0.0         2.0  \n",
       "Many positive                    0.0         NaN  \n",
       "Moderate negative                0.0         2.0  \n",
       "Moderate positive                0.0         2.0  \n",
       "Neutral                          0.0         2.0  "
      ]
     },
     "execution_count": 45,
     "metadata": {},
     "output_type": "execute_result"
    }
   ],
   "source": [
    "#create a pivot table to compare perceived impacts with main level of participation \n",
    "df2 = df.pivot_table(index = 'perceived_imp', columns = 'main_level' , values = 'level_score')\n",
    "df2"
   ]
  },
  {
   "cell_type": "code",
   "execution_count": 46,
   "id": "1f9d5200",
   "metadata": {},
   "outputs": [
    {
     "data": {
      "image/png": "[encoded data removed]",
      "text/plain": [
       "<Figure size 640x480 with 1 Axes>"
      ]
     },
     "metadata": {},
     "output_type": "display_data"
    }
   ],
   "source": [
    "bar_df2 = df2. plot(kind= 'bar', stacked = True, color=['#264653','#2A9D8F','#E9C46A','#F4A261','#E76F51','#606c38','#dda15e'])\n",
    "plt.xlabel(\"Perceived Impacts\", fontsize=10)\n",
    "plt.title('Perceived Impacts of Projects and the Level of Participation')\n",
    "bar_df2.legend(loc='upper right', bbox_to_anchor=(1.5, 0.8), ncol=1)\n",
    "#plt.legend(bbox_to_anchor=([0.55, 1, 0, 0]), ncol=5, frameon=False)\n",
    "width = 0.90"
   ]
  },
  {
   "cell_type": "code",
   "execution_count": 47,
   "id": "c5665298",
   "metadata": {},
   "outputs": [
    {
     "data": {
      "text/html": [
       "<div>\n",
       "<style scoped>\n",
       "    .dataframe tbody tr th:only-of-type {\n",
       "        vertical-align: middle;\n",
       "    }\n",
       "\n",
       "    .dataframe tbody tr th {\n",
       "        vertical-align: top;\n",
       "    }\n",
       "\n",
       "    .dataframe thead th {\n",
       "        text-align: right;\n",
       "    }\n",
       "</style>\n",
       "<table border=\"1\" class=\"dataframe\">\n",
       "  <thead>\n",
       "    <tr style=\"text-align: right;\">\n",
       "      <th>mandate</th>\n",
       "      <th>Legal Obligation</th>\n",
       "      <th>Not applicable</th>\n",
       "      <th>Voluntary</th>\n",
       "    </tr>\n",
       "    <tr>\n",
       "      <th>perceived_imp</th>\n",
       "      <th></th>\n",
       "      <th></th>\n",
       "      <th></th>\n",
       "    </tr>\n",
       "  </thead>\n",
       "  <tbody>\n",
       "    <tr>\n",
       "      <th>Many negative</th>\n",
       "      <td>2.000000</td>\n",
       "      <td>2.000000</td>\n",
       "      <td>2.800000</td>\n",
       "    </tr>\n",
       "    <tr>\n",
       "      <th>Many positive</th>\n",
       "      <td>5.750000</td>\n",
       "      <td>4.000000</td>\n",
       "      <td>4.210526</td>\n",
       "    </tr>\n",
       "    <tr>\n",
       "      <th>Moderate negative</th>\n",
       "      <td>4.470588</td>\n",
       "      <td>5.166667</td>\n",
       "      <td>3.348837</td>\n",
       "    </tr>\n",
       "    <tr>\n",
       "      <th>Moderate positive</th>\n",
       "      <td>3.647059</td>\n",
       "      <td>4.450000</td>\n",
       "      <td>3.540541</td>\n",
       "    </tr>\n",
       "    <tr>\n",
       "      <th>Neutral</th>\n",
       "      <td>3.823529</td>\n",
       "      <td>3.200000</td>\n",
       "      <td>2.576923</td>\n",
       "    </tr>\n",
       "  </tbody>\n",
       "</table>\n",
       "</div>"
      ],
      "text/plain": [
       "mandate             Legal Obligation   Not applicable  Voluntary\n",
       "perceived_imp                                                   \n",
       "Many negative                2.000000        2.000000   2.800000\n",
       "Many positive                5.750000        4.000000   4.210526\n",
       "Moderate negative            4.470588        5.166667   3.348837\n",
       "Moderate positive            3.647059        4.450000   3.540541\n",
       "Neutral                      3.823529        3.200000   2.576923"
      ]
     },
     "execution_count": 47,
     "metadata": {},
     "output_type": "execute_result"
    }
   ],
   "source": [
    "#comparing perceived impacts and mandates for participation\n",
    "df3 = df.pivot_table(index = 'perceived_imp', columns = 'mandate' , values = 'imp_score')\n",
    "df3"
   ]
  },
  {
   "cell_type": "code",
   "execution_count": 48,
   "id": "3b604d95",
   "metadata": {},
   "outputs": [
    {
     "data": {
      "image/png": "[encoded data removed]",
      "text/plain": [
       "<Figure size 640x480 with 1 Axes>"
      ]
     },
     "metadata": {},
     "output_type": "display_data"
    }
   ],
   "source": [
    "bar_df3 = df3. plot(kind= 'bar', stacked = True, color=['#264653','#2A9D8F','#E9C46A'])\n",
    "plt.xlabel(\"Perceived Impacts\", fontsize=10)\n",
    "plt.title('Perceived Impacts of Projects and Mandate for Participation')\n",
    "bar_df3.legend(loc='upper right', bbox_to_anchor=(1.5, 0.8), ncol=1)\n",
    "#plt.legend(bbox_to_anchor=([0.55, 1, 0, 0]), ncol=5, frameon=False)\n",
    "width = 0.90"
   ]
  }
 ],
 "metadata": {
  "kernelspec": {
   "display_name": "Python 3 (ipykernel)",
   "language": "python",
   "name": "python3"
  },
  "language_info": {
   "codemirror_mode": {
    "name": "ipython",
    "version": 3
   },
   "file_extension": ".py",
   "mimetype": "text/x-python",
   "name": "python",
   "nbconvert_exporter": "python",
   "pygments_lexer": "ipython3",
   "version": "3.9.13"
  }
 },
 "nbformat": 4,
 "nbformat_minor": 5
}
