{
 "cells": [
  {
   "cell_type": "markdown",
   "id": "d25e9c96",
   "metadata": {},
   "source": [
    "## Contents"
   ]
  },
  {
   "cell_type": "markdown",
   "id": "c750ed31",
   "metadata": {},
   "source": [
    "This script offers an overview of data distribution across 399 entries to the database on participatory practices and social innovations in the context of wind energy developments."
   ]
  },
  {
   "cell_type": "code",
   "execution_count": 1,
   "id": "ef5924c0",
   "metadata": {},
   "outputs": [],
   "source": [
    "#importing libraries\n",
    "import pandas as pd\n",
    "import numpy as np\n",
    "import os\n",
    "import matplotlib.pyplot as plt\n",
    "import seaborn as sns\n",
    "import scipy\n",
    "import math"
   ]
  },
  {
   "cell_type": "markdown",
   "id": "3d87a3a8",
   "metadata": {},
   "source": [
    "### 1. Importing Data"
   ]
  },
  {
   "cell_type": "code",
   "execution_count": 2,
   "id": "54809f91",
   "metadata": {},
   "outputs": [],
   "source": [
    "#creating a path\n",
    "path= r'C:\\Users\\isobr\\OneDrive\\18042023ParticipationPractices'"
   ]
  },
  {
   "cell_type": "code",
   "execution_count": 3,
   "id": "3a4f831c",
   "metadata": {},
   "outputs": [
    {
     "data": {
      "text/plain": [
       "'C:\\\\Users\\\\isobr\\\\OneDrive\\\\18042023ParticipationPractices'"
      ]
     },
     "execution_count": 3,
     "metadata": {},
     "output_type": "execute_result"
    }
   ],
   "source": [
    "path"
   ]
  },
  {
   "cell_type": "code",
   "execution_count": 4,
   "id": "43e4837f",
   "metadata": {},
   "outputs": [],
   "source": [
    "#importing the excel dataset\n",
    "df = pd.read_excel(os.path.join(path, 'practices_full.xlsx'), index_col = False)"
   ]
  },
  {
   "cell_type": "code",
   "execution_count": 5,
   "id": "3533716d",
   "metadata": {},
   "outputs": [
    {
     "data": {
      "text/html": [
       "<div>\n",
       "<style scoped>\n",
       "    .dataframe tbody tr th:only-of-type {\n",
       "        vertical-align: middle;\n",
       "    }\n",
       "\n",
       "    .dataframe tbody tr th {\n",
       "        vertical-align: top;\n",
       "    }\n",
       "\n",
       "    .dataframe thead th {\n",
       "        text-align: right;\n",
       "    }\n",
       "</style>\n",
       "<table border=\"1\" class=\"dataframe\">\n",
       "  <thead>\n",
       "    <tr style=\"text-align: right;\">\n",
       "      <th></th>\n",
       "      <th>ID</th>\n",
       "      <th>title</th>\n",
       "      <th>CS</th>\n",
       "      <th>source</th>\n",
       "      <th>year_pub</th>\n",
       "      <th>year_pro</th>\n",
       "      <th>publisher</th>\n",
       "      <th>link</th>\n",
       "      <th>province_state</th>\n",
       "      <th>country</th>\n",
       "      <th>...</th>\n",
       "      <th>innovation</th>\n",
       "      <th>tax</th>\n",
       "      <th>new jobs</th>\n",
       "      <th>tourism</th>\n",
       "      <th>energy price</th>\n",
       "      <th>property price</th>\n",
       "      <th>livelihoods</th>\n",
       "      <th>eco_imp</th>\n",
       "      <th>imp_score</th>\n",
       "      <th>perceived_imp</th>\n",
       "    </tr>\n",
       "  </thead>\n",
       "  <tbody>\n",
       "    <tr>\n",
       "      <th>0</th>\n",
       "      <td>a1</td>\n",
       "      <td>Popular and institutional opposition to the Se...</td>\n",
       "      <td>yes</td>\n",
       "      <td>Wiki</td>\n",
       "      <td>2022</td>\n",
       "      <td>2021.0</td>\n",
       "      <td>EJ Atlas</td>\n",
       "      <td>https://ejatlas.org/conflict/popular-and-insti...</td>\n",
       "      <td>Catalonia</td>\n",
       "      <td>Spain</td>\n",
       "      <td>...</td>\n",
       "      <td>0</td>\n",
       "      <td>0</td>\n",
       "      <td>1</td>\n",
       "      <td>1</td>\n",
       "      <td>0</td>\n",
       "      <td>0</td>\n",
       "      <td>0</td>\n",
       "      <td>2</td>\n",
       "      <td>6</td>\n",
       "      <td>Moderate negative</td>\n",
       "    </tr>\n",
       "    <tr>\n",
       "      <th>1</th>\n",
       "      <td>a2</td>\n",
       "      <td>Proteste gegen Verspargelung und Flächenfraß</td>\n",
       "      <td>yes</td>\n",
       "      <td>News media</td>\n",
       "      <td>2019</td>\n",
       "      <td>2019.0</td>\n",
       "      <td>deutschlandfunk Kultur</td>\n",
       "      <td>https://www.deutschlandfunkkultur.de/windenerg...</td>\n",
       "      <td>Mecklenburg-Western Pomerania</td>\n",
       "      <td>Germany</td>\n",
       "      <td>...</td>\n",
       "      <td>0</td>\n",
       "      <td>0</td>\n",
       "      <td>0</td>\n",
       "      <td>0</td>\n",
       "      <td>0</td>\n",
       "      <td>0</td>\n",
       "      <td>0</td>\n",
       "      <td>0</td>\n",
       "      <td>3</td>\n",
       "      <td>Moderate negative</td>\n",
       "    </tr>\n",
       "    <tr>\n",
       "      <th>2</th>\n",
       "      <td>a3</td>\n",
       "      <td>Greta Thunberg has joined a protest against wi...</td>\n",
       "      <td>yes</td>\n",
       "      <td>News media</td>\n",
       "      <td>2023</td>\n",
       "      <td>2021.0</td>\n",
       "      <td>CNN</td>\n",
       "      <td>https://edition.cnn.com/2023/03/01/europe/gret...</td>\n",
       "      <td>Fosen</td>\n",
       "      <td>Norway</td>\n",
       "      <td>...</td>\n",
       "      <td>0</td>\n",
       "      <td>0</td>\n",
       "      <td>0</td>\n",
       "      <td>0</td>\n",
       "      <td>0</td>\n",
       "      <td>0</td>\n",
       "      <td>0</td>\n",
       "      <td>0</td>\n",
       "      <td>3</td>\n",
       "      <td>Moderate negative</td>\n",
       "    </tr>\n",
       "    <tr>\n",
       "      <th>3</th>\n",
       "      <td>a4</td>\n",
       "      <td>Combining offshore wind farms, nature conserva...</td>\n",
       "      <td>no</td>\n",
       "      <td>Journal article</td>\n",
       "      <td>2021</td>\n",
       "      <td>2021.0</td>\n",
       "      <td>Marine Policy</td>\n",
       "      <td>https://www.sciencedirect.com/science/article/...</td>\n",
       "      <td>Not Applicable</td>\n",
       "      <td>Netherlands</td>\n",
       "      <td>...</td>\n",
       "      <td>0</td>\n",
       "      <td>0</td>\n",
       "      <td>1</td>\n",
       "      <td>0</td>\n",
       "      <td>0</td>\n",
       "      <td>0</td>\n",
       "      <td>0</td>\n",
       "      <td>1</td>\n",
       "      <td>4</td>\n",
       "      <td>Neutral</td>\n",
       "    </tr>\n",
       "    <tr>\n",
       "      <th>4</th>\n",
       "      <td>a5</td>\n",
       "      <td>Learning from the social impacts associated wi...</td>\n",
       "      <td>yes</td>\n",
       "      <td>Journal article</td>\n",
       "      <td>2021</td>\n",
       "      <td>2008.0</td>\n",
       "      <td>Impact Assessment and Project Appraisal</td>\n",
       "      <td>https://www.tandfonline.com/doi/full/10.1080/1...</td>\n",
       "      <td>Urk</td>\n",
       "      <td>Netherlands</td>\n",
       "      <td>...</td>\n",
       "      <td>1</td>\n",
       "      <td>0</td>\n",
       "      <td>0</td>\n",
       "      <td>1</td>\n",
       "      <td>0</td>\n",
       "      <td>0</td>\n",
       "      <td>1</td>\n",
       "      <td>3</td>\n",
       "      <td>6</td>\n",
       "      <td>Moderate negative</td>\n",
       "    </tr>\n",
       "  </tbody>\n",
       "</table>\n",
       "<p>5 rows × 70 columns</p>\n",
       "</div>"
      ],
      "text/plain": [
       "   ID                                              title   CS  \\\n",
       "0  a1  Popular and institutional opposition to the Se...  yes   \n",
       "1  a2       Proteste gegen Verspargelung und Flächenfraß  yes   \n",
       "2  a3  Greta Thunberg has joined a protest against wi...  yes   \n",
       "3  a4  Combining offshore wind farms, nature conserva...   no   \n",
       "4  a5  Learning from the social impacts associated wi...  yes   \n",
       "\n",
       "            source  year_pub  year_pro  \\\n",
       "0             Wiki      2022    2021.0   \n",
       "1      News media       2019    2019.0   \n",
       "2      News media       2023    2021.0   \n",
       "3  Journal article      2021    2021.0   \n",
       "4  Journal article      2021    2008.0   \n",
       "\n",
       "                                 publisher  \\\n",
       "0                                 EJ Atlas   \n",
       "1                   deutschlandfunk Kultur   \n",
       "2                                      CNN   \n",
       "3                            Marine Policy   \n",
       "4  Impact Assessment and Project Appraisal   \n",
       "\n",
       "                                                link  \\\n",
       "0  https://ejatlas.org/conflict/popular-and-insti...   \n",
       "1  https://www.deutschlandfunkkultur.de/windenerg...   \n",
       "2  https://edition.cnn.com/2023/03/01/europe/gret...   \n",
       "3  https://www.sciencedirect.com/science/article/...   \n",
       "4  https://www.tandfonline.com/doi/full/10.1080/1...   \n",
       "\n",
       "                  province_state      country  ... innovation tax  new jobs  \\\n",
       "0                      Catalonia        Spain  ...          0   0         1   \n",
       "1  Mecklenburg-Western Pomerania      Germany  ...          0   0         0   \n",
       "2                         Fosen        Norway  ...          0   0         0   \n",
       "3                 Not Applicable  Netherlands  ...          0   0         1   \n",
       "4                            Urk  Netherlands  ...          1   0         0   \n",
       "\n",
       "   tourism  energy price  property price  livelihoods  eco_imp  imp_score  \\\n",
       "0        1             0               0            0        2          6   \n",
       "1        0             0               0            0        0          3   \n",
       "2        0             0               0            0        0          3   \n",
       "3        0             0               0            0        1          4   \n",
       "4        1             0               0            1        3          6   \n",
       "\n",
       "        perceived_imp  \n",
       "0  Moderate negative   \n",
       "1  Moderate negative   \n",
       "2  Moderate negative   \n",
       "3            Neutral   \n",
       "4  Moderate negative   \n",
       "\n",
       "[5 rows x 70 columns]"
      ]
     },
     "execution_count": 5,
     "metadata": {},
     "output_type": "execute_result"
    }
   ],
   "source": [
    "df.head()"
   ]
  },
  {
   "cell_type": "code",
   "execution_count": 6,
   "id": "7400e6f8",
   "metadata": {},
   "outputs": [
    {
     "data": {
      "text/plain": [
       "(399, 70)"
      ]
     },
     "execution_count": 6,
     "metadata": {},
     "output_type": "execute_result"
    }
   ],
   "source": [
    "df.shape"
   ]
  },
  {
   "cell_type": "code",
   "execution_count": 7,
   "id": "63913498",
   "metadata": {},
   "outputs": [
    {
     "data": {
      "text/plain": [
       "Index(['ID', 'title', 'CS', 'source', 'year_pub', 'year_pro', 'publisher',\n",
       "       'link', 'province_state', 'country', 'region', 'technology',\n",
       "       'n_turbines', 'capacity', 'local community', 'communities interest',\n",
       "       'public', 'small investors', 'cooperative', 'NGO', 'organisation',\n",
       "       'government', 'municipality', 'experts', 'investors', 'turbines',\n",
       "       'onshore farm', 'offshore farm', 'company', 'policy', 'community ',\n",
       "       'repowering', 'other', 'mandate', 'main_level', 'level_score',\n",
       "       'other_levels', 'alibi', 'resistance', 'information', 'consultation ',\n",
       "       'financial ', 'cooperation ', 'scale', 'timing', 'opportunities',\n",
       "       'opportunities_score', 'noise', 'shadow-flicker', 'safety', 'health',\n",
       "       'landuse', 'access energy', 'awareness', 'community fund', 'soc_imp',\n",
       "       'emissions', 'biodiversity', 'landscape', 'env_imp', 'innovation',\n",
       "       'tax', 'new jobs', 'tourism', 'energy price', 'property price',\n",
       "       'livelihoods', 'eco_imp', 'imp_score', 'perceived_imp'],\n",
       "      dtype='object')"
      ]
     },
     "execution_count": 7,
     "metadata": {},
     "output_type": "execute_result"
    }
   ],
   "source": [
    "df.columns"
   ]
  },
  {
   "cell_type": "markdown",
   "id": "753c4ea3",
   "metadata": {},
   "source": [
    "### 2. Check for Duplicates and Null values"
   ]
  },
  {
   "cell_type": "code",
   "execution_count": 8,
   "id": "f5ceaa02",
   "metadata": {},
   "outputs": [],
   "source": [
    "#Checking for duplicates\n",
    "df_dup = df[df.duplicated()]"
   ]
  },
  {
   "cell_type": "code",
   "execution_count": 9,
   "id": "dc94853a",
   "metadata": {},
   "outputs": [
    {
     "data": {
      "text/html": [
       "<div>\n",
       "<style scoped>\n",
       "    .dataframe tbody tr th:only-of-type {\n",
       "        vertical-align: middle;\n",
       "    }\n",
       "\n",
       "    .dataframe tbody tr th {\n",
       "        vertical-align: top;\n",
       "    }\n",
       "\n",
       "    .dataframe thead th {\n",
       "        text-align: right;\n",
       "    }\n",
       "</style>\n",
       "<table border=\"1\" class=\"dataframe\">\n",
       "  <thead>\n",
       "    <tr style=\"text-align: right;\">\n",
       "      <th></th>\n",
       "      <th>ID</th>\n",
       "      <th>title</th>\n",
       "      <th>CS</th>\n",
       "      <th>source</th>\n",
       "      <th>year_pub</th>\n",
       "      <th>year_pro</th>\n",
       "      <th>publisher</th>\n",
       "      <th>link</th>\n",
       "      <th>province_state</th>\n",
       "      <th>country</th>\n",
       "      <th>...</th>\n",
       "      <th>innovation</th>\n",
       "      <th>tax</th>\n",
       "      <th>new jobs</th>\n",
       "      <th>tourism</th>\n",
       "      <th>energy price</th>\n",
       "      <th>property price</th>\n",
       "      <th>livelihoods</th>\n",
       "      <th>eco_imp</th>\n",
       "      <th>imp_score</th>\n",
       "      <th>perceived_imp</th>\n",
       "    </tr>\n",
       "  </thead>\n",
       "  <tbody>\n",
       "  </tbody>\n",
       "</table>\n",
       "<p>0 rows × 70 columns</p>\n",
       "</div>"
      ],
      "text/plain": [
       "Empty DataFrame\n",
       "Columns: [ID, title, CS, source, year_pub, year_pro, publisher, link, province_state, country, region, technology, n_turbines, capacity, local community, communities interest, public, small investors, cooperative, NGO, organisation, government, municipality, experts, investors, turbines, onshore farm, offshore farm, company, policy, community , repowering, other, mandate, main_level, level_score, other_levels, alibi, resistance, information, consultation , financial , cooperation , scale, timing, opportunities, opportunities_score, noise, shadow-flicker, safety, health, landuse, access energy, awareness, community fund, soc_imp, emissions, biodiversity, landscape, env_imp, innovation, tax, new jobs, tourism, energy price, property price, livelihoods, eco_imp, imp_score, perceived_imp]\n",
       "Index: []\n",
       "\n",
       "[0 rows x 70 columns]"
      ]
     },
     "execution_count": 9,
     "metadata": {},
     "output_type": "execute_result"
    }
   ],
   "source": [
    "df_dup"
   ]
  },
  {
   "cell_type": "code",
   "execution_count": 10,
   "id": "2beac7d9",
   "metadata": {
    "scrolled": true
   },
   "outputs": [
    {
     "data": {
      "text/plain": [
       "ID                0\n",
       "title             0\n",
       "CS                0\n",
       "source            0\n",
       "year_pub          0\n",
       "                 ..\n",
       "property price    0\n",
       "livelihoods       0\n",
       "eco_imp           0\n",
       "imp_score         0\n",
       "perceived_imp     0\n",
       "Length: 70, dtype: int64"
      ]
     },
     "execution_count": 10,
     "metadata": {},
     "output_type": "execute_result"
    }
   ],
   "source": [
    "df.isna().sum() "
   ]
  },
  {
   "cell_type": "markdown",
   "id": "c5b7850e",
   "metadata": {},
   "source": [
    "### 3. Check Data Types"
   ]
  },
  {
   "cell_type": "code",
   "execution_count": 11,
   "id": "a0082984",
   "metadata": {},
   "outputs": [
    {
     "name": "stdout",
     "output_type": "stream",
     "text": [
      "other_levels\n",
      "alibi\n",
      "resistance\n",
      "information\n",
      "consultation \n",
      "financial \n",
      "cooperation \n"
     ]
    }
   ],
   "source": [
    "#checking for variables with mixed data types\n",
    "for col in df.columns.tolist():\n",
    "  weird = (df[[col]].applymap(type) != df[[col]].iloc[0].apply(type)).any(axis = 1)\n",
    "  if len (df[weird]) > 0:\n",
    "    print (col)"
   ]
  },
  {
   "cell_type": "code",
   "execution_count": 12,
   "id": "3fc78970",
   "metadata": {},
   "outputs": [
    {
     "name": "stdout",
     "output_type": "stream",
     "text": [
      "<class 'pandas.core.frame.DataFrame'>\n",
      "RangeIndex: 399 entries, 0 to 398\n",
      "Data columns (total 70 columns):\n",
      " #   Column                Non-Null Count  Dtype  \n",
      "---  ------                --------------  -----  \n",
      " 0   ID                    399 non-null    object \n",
      " 1   title                 399 non-null    object \n",
      " 2   CS                    399 non-null    object \n",
      " 3   source                399 non-null    object \n",
      " 4   year_pub              399 non-null    int64  \n",
      " 5   year_pro              382 non-null    float64\n",
      " 6   publisher             399 non-null    object \n",
      " 7   link                  399 non-null    object \n",
      " 8   province_state        399 non-null    object \n",
      " 9   country               399 non-null    object \n",
      " 10  region                399 non-null    object \n",
      " 11  technology            399 non-null    object \n",
      " 12  n_turbines            399 non-null    int64  \n",
      " 13  capacity              399 non-null    float64\n",
      " 14  local community       399 non-null    int64  \n",
      " 15  communities interest  399 non-null    int64  \n",
      " 16  public                399 non-null    int64  \n",
      " 17  small investors       399 non-null    int64  \n",
      " 18  cooperative           399 non-null    int64  \n",
      " 19  NGO                   399 non-null    int64  \n",
      " 20  organisation          399 non-null    int64  \n",
      " 21  government            399 non-null    int64  \n",
      " 22  municipality          399 non-null    int64  \n",
      " 23  experts               399 non-null    int64  \n",
      " 24  investors             399 non-null    int64  \n",
      " 25  turbines              399 non-null    int64  \n",
      " 26  onshore farm          399 non-null    int64  \n",
      " 27  offshore farm         399 non-null    int64  \n",
      " 28  company               399 non-null    int64  \n",
      " 29  policy                399 non-null    int64  \n",
      " 30  community             399 non-null    int64  \n",
      " 31  repowering            399 non-null    int64  \n",
      " 32  other                 399 non-null    int64  \n",
      " 33  mandate               399 non-null    object \n",
      " 34  main_level            399 non-null    object \n",
      " 35  level_score           399 non-null    int64  \n",
      " 36  other_levels          131 non-null    object \n",
      " 37  alibi                 9 non-null      object \n",
      " 38  resistance            55 non-null     object \n",
      " 39  information           91 non-null     object \n",
      " 40  consultation          143 non-null    object \n",
      " 41  financial             155 non-null    object \n",
      " 42  cooperation           78 non-null     object \n",
      " 43  scale                 399 non-null    object \n",
      " 44  timing                399 non-null    object \n",
      " 45  opportunities         399 non-null    object \n",
      " 46  opportunities_score   399 non-null    int64  \n",
      " 47  noise                 399 non-null    int64  \n",
      " 48  shadow-flicker        399 non-null    int64  \n",
      " 49  safety                399 non-null    int64  \n",
      " 50  health                399 non-null    int64  \n",
      " 51  landuse               399 non-null    int64  \n",
      " 52  access energy         399 non-null    int64  \n",
      " 53  awareness             399 non-null    int64  \n",
      " 54  community fund        399 non-null    int64  \n",
      " 55  soc_imp               399 non-null    int64  \n",
      " 56  emissions             399 non-null    int64  \n",
      " 57  biodiversity          399 non-null    int64  \n",
      " 58  landscape             399 non-null    int64  \n",
      " 59  env_imp               399 non-null    int64  \n",
      " 60  innovation            399 non-null    int64  \n",
      " 61  tax                   399 non-null    int64  \n",
      " 62  new jobs              399 non-null    int64  \n",
      " 63  tourism               399 non-null    int64  \n",
      " 64  energy price          399 non-null    int64  \n",
      " 65  property price        399 non-null    int64  \n",
      " 66  livelihoods           399 non-null    int64  \n",
      " 67  eco_imp               399 non-null    int64  \n",
      " 68  imp_score             399 non-null    int64  \n",
      " 69  perceived_imp         399 non-null    object \n",
      "dtypes: float64(2), int64(45), object(23)\n",
      "memory usage: 218.3+ KB\n"
     ]
    }
   ],
   "source": [
    "df.info()"
   ]
  },
  {
   "cell_type": "markdown",
   "id": "cab89702",
   "metadata": {},
   "source": [
    "### 4. Exploratory Analysis"
   ]
  },
  {
   "cell_type": "code",
   "execution_count": 13,
   "id": "86252a43",
   "metadata": {},
   "outputs": [
    {
     "data": {
      "text/plain": [
       "Turkey                 1\n",
       "Ukraine                1\n",
       "Ethiopia               1\n",
       "American Samoa         1\n",
       "Lithuania              1\n",
       "Luxembourg             1\n",
       "Kenya                  1\n",
       "Albania                1\n",
       "Dominican Republic     1\n",
       "Colombia               1\n",
       "Equador                1\n",
       "Taiwan                 1\n",
       "Mozambique             1\n",
       "China                  2\n",
       "Pakistan               2\n",
       "Latvia                 2\n",
       "Sweden                 2\n",
       "Iceland                2\n",
       "Czech Republic         2\n",
       "South Korea            4\n",
       "Austria                4\n",
       "Finland                4\n",
       "Switzerland            5\n",
       "Europe                 5\n",
       "South Africa           6\n",
       "India                  6\n",
       "France                 6\n",
       "Greece                 7\n",
       "Ireland                8\n",
       "Portugal               8\n",
       "Estonia                9\n",
       "Mexico                 9\n",
       "Poland                 9\n",
       "Brazil                10\n",
       "Australia             10\n",
       "Norway                10\n",
       "Italy                 10\n",
       "Canada                13\n",
       "Spain                 18\n",
       "Not Applicable        19\n",
       "Netherlands           21\n",
       "Denmark               24\n",
       "Belgium               28\n",
       "Germany               35\n",
       "United States         41\n",
       "United Kingdom        45\n",
       "Name: country, dtype: int64"
      ]
     },
     "execution_count": 13,
     "metadata": {},
     "output_type": "execute_result"
    }
   ],
   "source": [
    "#frequency of country\n",
    "df['country'].value_counts().sort_values(ascending = True)"
   ]
  },
  {
   "cell_type": "code",
   "execution_count": 14,
   "id": "abf09640",
   "metadata": {},
   "outputs": [
    {
     "data": {
      "text/plain": [
       "array(['Spain', 'Germany', 'Norway', 'Netherlands', 'United Kingdom',\n",
       "       'Not Applicable', 'Pakistan', 'South Korea', 'Greece', 'Italy',\n",
       "       'United States ', 'Brazil', 'South Africa', 'Mexico', 'China',\n",
       "       'Ethiopia', 'Ireland', 'Switzerland', 'Estonia', 'Ukraine',\n",
       "       'Poland', 'Europe', 'Finland', 'Iceland', 'Latvia', 'Lithuania',\n",
       "       'Portugal', 'Australia', 'Sweden', 'Denmark', 'Belgium', 'Albania',\n",
       "       'Austria', 'Kenya', 'Canada', 'France', 'American Samoa', 'India',\n",
       "       'Luxembourg', 'Taiwan', 'Czech Republic', 'Dominican Republic',\n",
       "       'Colombia', 'Equador', 'Mozambique', 'Turkey '], dtype=object)"
      ]
     },
     "execution_count": 14,
     "metadata": {},
     "output_type": "execute_result"
    }
   ],
   "source": [
    "#unique values in country\n",
    "df['country'].unique()"
   ]
  },
  {
   "cell_type": "markdown",
   "id": "3c638713",
   "metadata": {},
   "source": [
    "#### 4.1 Group By "
   ]
  },
  {
   "cell_type": "code",
   "execution_count": 15,
   "id": "a001b058",
   "metadata": {},
   "outputs": [
    {
     "data": {
      "text/plain": [
       "main_level        mandate          \n",
       "Alibi             Legal Obligation      3\n",
       "                  Not applicable        2\n",
       "Consultation      Legal Obligation     38\n",
       "                  Not applicable       16\n",
       "                  Voluntary            70\n",
       "Cooperation       Legal Obligation      2\n",
       "                  Not applicable        4\n",
       "                  Voluntary            58\n",
       "Financial         Legal Obligation     11\n",
       "                  Not applicable        3\n",
       "                  Voluntary            73\n",
       "Information       Legal Obligation     21\n",
       "                  Not applicable        5\n",
       "                  Voluntary            29\n",
       "No participation  Not applicable       14\n",
       "Resistance        Legal Obligation      4\n",
       "                  Not applicable        1\n",
       "                  Voluntary            45\n",
       "Name: n_turbines, dtype: int64"
      ]
     },
     "execution_count": 15,
     "metadata": {},
     "output_type": "execute_result"
    }
   ],
   "source": [
    "df.groupby(['main_level', 'mandate'])['n_turbines'].count()"
   ]
  },
  {
   "cell_type": "code",
   "execution_count": 16,
   "id": "fae37b40",
   "metadata": {},
   "outputs": [
    {
     "data": {
      "text/plain": [
       "main_level        scale        \n",
       "Alibi             Local             1\n",
       "                  National          2\n",
       "                  Regional          2\n",
       "Consultation      Local            52\n",
       "                  National         32\n",
       "                  Regional         33\n",
       "                  Transnational     7\n",
       "Cooperation       Local            37\n",
       "                  National          6\n",
       "                  Regional         20\n",
       "                  Transnational     1\n",
       "Financial         Local            41\n",
       "                  National         17\n",
       "                  Regional         21\n",
       "                  Transnational     8\n",
       "Information       Local            14\n",
       "                  National         21\n",
       "                  Regional         16\n",
       "                  Transnational     4\n",
       "No participation  Local             6\n",
       "                  National          2\n",
       "                  Regional          4\n",
       "                  Transnational     2\n",
       "Resistance        Local            23\n",
       "                  National          7\n",
       "                  Regional         19\n",
       "                  Transnational     1\n",
       "Name: n_turbines, dtype: int64"
      ]
     },
     "execution_count": 16,
     "metadata": {},
     "output_type": "execute_result"
    }
   ],
   "source": [
    "df.groupby(['main_level', 'scale'])['n_turbines'].count()"
   ]
  },
  {
   "cell_type": "markdown",
   "id": "4eb70e61",
   "metadata": {},
   "source": [
    "On a first view, it seems that Consultation, Cooperation and Financial levels of Participation happen mostly at the local level"
   ]
  },
  {
   "cell_type": "markdown",
   "id": "b4b758f6",
   "metadata": {},
   "source": [
    "#### 4.1.1 Main Level of Participation and Installed Capacity"
   ]
  },
  {
   "cell_type": "code",
   "execution_count": 17,
   "id": "4fe91465",
   "metadata": {},
   "outputs": [
    {
     "data": {
      "text/plain": [
       "main_level\n",
       "Alibi               4451.000000\n",
       "Consultation         857.657258\n",
       "Cooperation          499.015938\n",
       "Financial            323.488621\n",
       "Information          462.779509\n",
       "No participation     225.925000\n",
       "Resistance          4587.589400\n",
       "Name: capacity, dtype: float64"
      ]
     },
     "execution_count": 17,
     "metadata": {},
     "output_type": "execute_result"
    }
   ],
   "source": [
    "df.groupby('main_level')['capacity'].mean()"
   ]
  },
  {
   "cell_type": "code",
   "execution_count": 18,
   "id": "5e7701a5",
   "metadata": {},
   "outputs": [
    {
     "data": {
      "text/html": [
       "<div>\n",
       "<style scoped>\n",
       "    .dataframe tbody tr th:only-of-type {\n",
       "        vertical-align: middle;\n",
       "    }\n",
       "\n",
       "    .dataframe tbody tr th {\n",
       "        vertical-align: top;\n",
       "    }\n",
       "\n",
       "    .dataframe thead th {\n",
       "        text-align: right;\n",
       "    }\n",
       "</style>\n",
       "<table border=\"1\" class=\"dataframe\">\n",
       "  <thead>\n",
       "    <tr style=\"text-align: right;\">\n",
       "      <th></th>\n",
       "      <th>main_level</th>\n",
       "      <th>capacity</th>\n",
       "    </tr>\n",
       "  </thead>\n",
       "  <tbody>\n",
       "    <tr>\n",
       "      <th>6</th>\n",
       "      <td>Resistance</td>\n",
       "      <td>4587.589400</td>\n",
       "    </tr>\n",
       "    <tr>\n",
       "      <th>0</th>\n",
       "      <td>Alibi</td>\n",
       "      <td>4451.000000</td>\n",
       "    </tr>\n",
       "    <tr>\n",
       "      <th>1</th>\n",
       "      <td>Consultation</td>\n",
       "      <td>857.657258</td>\n",
       "    </tr>\n",
       "    <tr>\n",
       "      <th>2</th>\n",
       "      <td>Cooperation</td>\n",
       "      <td>499.015938</td>\n",
       "    </tr>\n",
       "    <tr>\n",
       "      <th>4</th>\n",
       "      <td>Information</td>\n",
       "      <td>462.779509</td>\n",
       "    </tr>\n",
       "    <tr>\n",
       "      <th>3</th>\n",
       "      <td>Financial</td>\n",
       "      <td>323.488621</td>\n",
       "    </tr>\n",
       "    <tr>\n",
       "      <th>5</th>\n",
       "      <td>No participation</td>\n",
       "      <td>225.925000</td>\n",
       "    </tr>\n",
       "  </tbody>\n",
       "</table>\n",
       "</div>"
      ],
      "text/plain": [
       "         main_level     capacity\n",
       "6        Resistance  4587.589400\n",
       "0             Alibi  4451.000000\n",
       "1      Consultation   857.657258\n",
       "2       Cooperation   499.015938\n",
       "4       Information   462.779509\n",
       "3         Financial   323.488621\n",
       "5  No participation   225.925000"
      ]
     },
     "execution_count": 18,
     "metadata": {},
     "output_type": "execute_result"
    }
   ],
   "source": [
    "df3 = (\n",
    "    df\n",
    "    .groupby('main_level')['capacity'].mean()\n",
    "    .reset_index()\n",
    "    .sort_values('capacity', ascending = False)\n",
    ")\n",
    "df3"
   ]
  },
  {
   "cell_type": "code",
   "execution_count": 19,
   "id": "262101b1",
   "metadata": {},
   "outputs": [
    {
     "data": {
      "text/html": [
       "<div>\n",
       "<style scoped>\n",
       "    .dataframe tbody tr th:only-of-type {\n",
       "        vertical-align: middle;\n",
       "    }\n",
       "\n",
       "    .dataframe tbody tr th {\n",
       "        vertical-align: top;\n",
       "    }\n",
       "\n",
       "    .dataframe thead th {\n",
       "        text-align: right;\n",
       "    }\n",
       "</style>\n",
       "<table border=\"1\" class=\"dataframe\">\n",
       "  <thead>\n",
       "    <tr style=\"text-align: right;\">\n",
       "      <th></th>\n",
       "      <th>capacity</th>\n",
       "    </tr>\n",
       "    <tr>\n",
       "      <th>main_level</th>\n",
       "      <th></th>\n",
       "    </tr>\n",
       "  </thead>\n",
       "  <tbody>\n",
       "    <tr>\n",
       "      <th>Resistance</th>\n",
       "      <td>4587.589400</td>\n",
       "    </tr>\n",
       "    <tr>\n",
       "      <th>Alibi</th>\n",
       "      <td>4451.000000</td>\n",
       "    </tr>\n",
       "    <tr>\n",
       "      <th>Consultation</th>\n",
       "      <td>857.657258</td>\n",
       "    </tr>\n",
       "    <tr>\n",
       "      <th>Cooperation</th>\n",
       "      <td>499.015938</td>\n",
       "    </tr>\n",
       "    <tr>\n",
       "      <th>Information</th>\n",
       "      <td>462.779509</td>\n",
       "    </tr>\n",
       "    <tr>\n",
       "      <th>Financial</th>\n",
       "      <td>323.488621</td>\n",
       "    </tr>\n",
       "    <tr>\n",
       "      <th>No participation</th>\n",
       "      <td>225.925000</td>\n",
       "    </tr>\n",
       "  </tbody>\n",
       "</table>\n",
       "</div>"
      ],
      "text/plain": [
       "                     capacity\n",
       "main_level                   \n",
       "Resistance        4587.589400\n",
       "Alibi             4451.000000\n",
       "Consultation       857.657258\n",
       "Cooperation        499.015938\n",
       "Information        462.779509\n",
       "Financial          323.488621\n",
       "No participation   225.925000"
      ]
     },
     "execution_count": 19,
     "metadata": {},
     "output_type": "execute_result"
    }
   ],
   "source": [
    "#creating a new index based on the level of participation\n",
    "df3.set_index('main_level')"
   ]
  },
  {
   "cell_type": "code",
   "execution_count": 20,
   "id": "b71fb02d",
   "metadata": {},
   "outputs": [
    {
     "data": {
      "text/plain": [
       "Text(0.5, 1.0, 'Main Level of Participation by Mean Value of Installed Capacity')"
      ]
     },
     "execution_count": 20,
     "metadata": {},
     "output_type": "execute_result"
    },
    {
     "data": {
      "image/png": "[encoded data removed]",
      "text/plain": [
       "<Figure size 640x480 with 1 Axes>"
      ]
     },
     "metadata": {},
     "output_type": "display_data"
    }
   ],
   "source": [
    "df3.set_index('main_level').plot.bar(color='#2a9d8f')\n",
    "plt.xlabel('Main Level of Participation', fontsize=8)\n",
    "plt.title('Main Level of Participation by Mean Value of Installed Capacity', fontsize=10)"
   ]
  },
  {
   "cell_type": "code",
   "execution_count": 57,
   "id": "00353c78",
   "metadata": {},
   "outputs": [
    {
     "data": {
      "text/plain": [
       "count       399.000000\n",
       "mean       1119.499556\n",
       "std        8144.914914\n",
       "min           0.000000\n",
       "25%           0.950000\n",
       "50%          34.850000\n",
       "75%         190.000000\n",
       "max      141000.000000\n",
       "Name: capacity, dtype: float64"
      ]
     },
     "execution_count": 57,
     "metadata": {},
     "output_type": "execute_result"
    }
   ],
   "source": [
    "df['capacity'].describe()"
   ]
  },
  {
   "cell_type": "markdown",
   "id": "80852bed",
   "metadata": {},
   "source": [
    "Higher installed capacity has less entries for cooperation and financial, and more for alibi and resistance."
   ]
  },
  {
   "cell_type": "markdown",
   "id": "4208e58a",
   "metadata": {},
   "source": [
    "Now lets consider the number of turbines (which is highly correlated to installed capacity):"
   ]
  },
  {
   "cell_type": "code",
   "execution_count": 21,
   "id": "1b2cb672",
   "metadata": {},
   "outputs": [
    {
     "data": {
      "text/plain": [
       "count      399.000000\n",
       "mean       432.726817\n",
       "std       3308.817452\n",
       "min          0.000000\n",
       "25%          1.000000\n",
       "50%         10.000000\n",
       "75%         73.000000\n",
       "max      56400.000000\n",
       "Name: n_turbines, dtype: float64"
      ]
     },
     "execution_count": 21,
     "metadata": {},
     "output_type": "execute_result"
    }
   ],
   "source": [
    "df['n_turbines'].describe()"
   ]
  },
  {
   "cell_type": "code",
   "execution_count": 22,
   "id": "27f1f26e",
   "metadata": {},
   "outputs": [
    {
     "data": {
      "text/plain": [
       "main_level\n",
       "Alibi               2614.000000\n",
       "Consultation         235.741935\n",
       "Cooperation          155.937500\n",
       "Financial            134.942529\n",
       "Information          179.236364\n",
       "No participation      96.785714\n",
       "Resistance          1948.460000\n",
       "Name: n_turbines, dtype: float64"
      ]
     },
     "execution_count": 22,
     "metadata": {},
     "output_type": "execute_result"
    }
   ],
   "source": [
    "df.groupby('main_level')['n_turbines'].mean()"
   ]
  },
  {
   "cell_type": "code",
   "execution_count": 23,
   "id": "edf7aa0a",
   "metadata": {},
   "outputs": [],
   "source": [
    "df2 = (\n",
    "    df\n",
    "    .groupby('main_level')['n_turbines'].median()\n",
    "    .reset_index()\n",
    "    .sort_values('n_turbines', ascending = False)\n",
    ")"
   ]
  },
  {
   "cell_type": "code",
   "execution_count": 24,
   "id": "33c944cd",
   "metadata": {},
   "outputs": [
    {
     "data": {
      "text/html": [
       "<div>\n",
       "<style scoped>\n",
       "    .dataframe tbody tr th:only-of-type {\n",
       "        vertical-align: middle;\n",
       "    }\n",
       "\n",
       "    .dataframe tbody tr th {\n",
       "        vertical-align: top;\n",
       "    }\n",
       "\n",
       "    .dataframe thead th {\n",
       "        text-align: right;\n",
       "    }\n",
       "</style>\n",
       "<table border=\"1\" class=\"dataframe\">\n",
       "  <thead>\n",
       "    <tr style=\"text-align: right;\">\n",
       "      <th></th>\n",
       "      <th>n_turbines</th>\n",
       "    </tr>\n",
       "    <tr>\n",
       "      <th>main_level</th>\n",
       "      <th></th>\n",
       "    </tr>\n",
       "  </thead>\n",
       "  <tbody>\n",
       "    <tr>\n",
       "      <th>Alibi</th>\n",
       "      <td>1315.0</td>\n",
       "    </tr>\n",
       "    <tr>\n",
       "      <th>Information</th>\n",
       "      <td>40.0</td>\n",
       "    </tr>\n",
       "    <tr>\n",
       "      <th>Resistance</th>\n",
       "      <td>25.0</td>\n",
       "    </tr>\n",
       "    <tr>\n",
       "      <th>Consultation</th>\n",
       "      <td>11.0</td>\n",
       "    </tr>\n",
       "    <tr>\n",
       "      <th>No participation</th>\n",
       "      <td>8.0</td>\n",
       "    </tr>\n",
       "    <tr>\n",
       "      <th>Cooperation</th>\n",
       "      <td>4.5</td>\n",
       "    </tr>\n",
       "    <tr>\n",
       "      <th>Financial</th>\n",
       "      <td>4.0</td>\n",
       "    </tr>\n",
       "  </tbody>\n",
       "</table>\n",
       "</div>"
      ],
      "text/plain": [
       "                  n_turbines\n",
       "main_level                  \n",
       "Alibi                 1315.0\n",
       "Information             40.0\n",
       "Resistance              25.0\n",
       "Consultation            11.0\n",
       "No participation         8.0\n",
       "Cooperation              4.5\n",
       "Financial                4.0"
      ]
     },
     "execution_count": 24,
     "metadata": {},
     "output_type": "execute_result"
    }
   ],
   "source": [
    "df2.set_index('main_level')"
   ]
  },
  {
   "cell_type": "code",
   "execution_count": 25,
   "id": "237829d3",
   "metadata": {},
   "outputs": [
    {
     "data": {
      "text/plain": [
       "Text(0.5, 1.0, 'Main Level of Participation by Median Number of Turbines')"
      ]
     },
     "execution_count": 25,
     "metadata": {},
     "output_type": "execute_result"
    },
    {
     "data": {
      "image/png": "[encoded data removed]",
      "text/plain": [
       "<Figure size 640x480 with 1 Axes>"
      ]
     },
     "metadata": {},
     "output_type": "display_data"
    }
   ],
   "source": [
    "df2.set_index('main_level').plot.bar(color='#2a9d8f')\n",
    "plt.xlabel('Main Level of Participation', fontsize=8)\n",
    "plt.title('Main Level of Participation by Median Number of Turbines',fontsize=10)"
   ]
  },
  {
   "cell_type": "markdown",
   "id": "be6038f1",
   "metadata": {},
   "source": [
    "The result is very similar for number of turbines (statistical tests will say further, if this relationship is significant)"
   ]
  },
  {
   "cell_type": "markdown",
   "id": "83a6ad93",
   "metadata": {},
   "source": [
    "### 5. Descriptive Statistics"
   ]
  },
  {
   "cell_type": "code",
   "execution_count": 26,
   "id": "74576847",
   "metadata": {},
   "outputs": [
    {
     "data": {
      "text/html": [
       "<div>\n",
       "<style scoped>\n",
       "    .dataframe tbody tr th:only-of-type {\n",
       "        vertical-align: middle;\n",
       "    }\n",
       "\n",
       "    .dataframe tbody tr th {\n",
       "        vertical-align: top;\n",
       "    }\n",
       "\n",
       "    .dataframe thead th {\n",
       "        text-align: right;\n",
       "    }\n",
       "</style>\n",
       "<table border=\"1\" class=\"dataframe\">\n",
       "  <thead>\n",
       "    <tr style=\"text-align: right;\">\n",
       "      <th></th>\n",
       "      <th>year_pub</th>\n",
       "      <th>year_pro</th>\n",
       "      <th>n_turbines</th>\n",
       "      <th>capacity</th>\n",
       "      <th>local community</th>\n",
       "      <th>communities interest</th>\n",
       "      <th>public</th>\n",
       "      <th>small investors</th>\n",
       "      <th>cooperative</th>\n",
       "      <th>NGO</th>\n",
       "      <th>...</th>\n",
       "      <th>env_imp</th>\n",
       "      <th>innovation</th>\n",
       "      <th>tax</th>\n",
       "      <th>new jobs</th>\n",
       "      <th>tourism</th>\n",
       "      <th>energy price</th>\n",
       "      <th>property price</th>\n",
       "      <th>livelihoods</th>\n",
       "      <th>eco_imp</th>\n",
       "      <th>imp_score</th>\n",
       "    </tr>\n",
       "  </thead>\n",
       "  <tbody>\n",
       "    <tr>\n",
       "      <th>count</th>\n",
       "      <td>399.000000</td>\n",
       "      <td>382.000000</td>\n",
       "      <td>399.000000</td>\n",
       "      <td>399.000000</td>\n",
       "      <td>399.000000</td>\n",
       "      <td>399.000000</td>\n",
       "      <td>399.000000</td>\n",
       "      <td>399.000000</td>\n",
       "      <td>399.000000</td>\n",
       "      <td>399.000000</td>\n",
       "      <td>...</td>\n",
       "      <td>399.000000</td>\n",
       "      <td>399.000000</td>\n",
       "      <td>399.000000</td>\n",
       "      <td>399.000000</td>\n",
       "      <td>399.000000</td>\n",
       "      <td>399.000000</td>\n",
       "      <td>399.000000</td>\n",
       "      <td>399.000000</td>\n",
       "      <td>399.000000</td>\n",
       "      <td>399.000000</td>\n",
       "    </tr>\n",
       "    <tr>\n",
       "      <th>mean</th>\n",
       "      <td>2019.982456</td>\n",
       "      <td>2014.960733</td>\n",
       "      <td>432.726817</td>\n",
       "      <td>1119.499556</td>\n",
       "      <td>0.543860</td>\n",
       "      <td>0.433584</td>\n",
       "      <td>0.315789</td>\n",
       "      <td>0.195489</td>\n",
       "      <td>0.235589</td>\n",
       "      <td>0.122807</td>\n",
       "      <td>...</td>\n",
       "      <td>1.197995</td>\n",
       "      <td>0.223058</td>\n",
       "      <td>0.052632</td>\n",
       "      <td>0.265664</td>\n",
       "      <td>0.075188</td>\n",
       "      <td>0.250627</td>\n",
       "      <td>0.050125</td>\n",
       "      <td>0.215539</td>\n",
       "      <td>1.132832</td>\n",
       "      <td>3.619048</td>\n",
       "    </tr>\n",
       "    <tr>\n",
       "      <th>std</th>\n",
       "      <td>3.674193</td>\n",
       "      <td>6.594440</td>\n",
       "      <td>3308.817452</td>\n",
       "      <td>8144.914914</td>\n",
       "      <td>0.498698</td>\n",
       "      <td>0.496191</td>\n",
       "      <td>0.465413</td>\n",
       "      <td>0.397074</td>\n",
       "      <td>0.424899</td>\n",
       "      <td>0.328628</td>\n",
       "      <td>...</td>\n",
       "      <td>0.958116</td>\n",
       "      <td>0.416819</td>\n",
       "      <td>0.223577</td>\n",
       "      <td>0.442241</td>\n",
       "      <td>0.264025</td>\n",
       "      <td>0.433918</td>\n",
       "      <td>0.218477</td>\n",
       "      <td>0.411712</td>\n",
       "      <td>1.009950</td>\n",
       "      <td>1.868877</td>\n",
       "    </tr>\n",
       "    <tr>\n",
       "      <th>min</th>\n",
       "      <td>2000.000000</td>\n",
       "      <td>1980.000000</td>\n",
       "      <td>0.000000</td>\n",
       "      <td>0.000000</td>\n",
       "      <td>0.000000</td>\n",
       "      <td>0.000000</td>\n",
       "      <td>0.000000</td>\n",
       "      <td>0.000000</td>\n",
       "      <td>0.000000</td>\n",
       "      <td>0.000000</td>\n",
       "      <td>...</td>\n",
       "      <td>0.000000</td>\n",
       "      <td>0.000000</td>\n",
       "      <td>0.000000</td>\n",
       "      <td>0.000000</td>\n",
       "      <td>0.000000</td>\n",
       "      <td>0.000000</td>\n",
       "      <td>0.000000</td>\n",
       "      <td>0.000000</td>\n",
       "      <td>0.000000</td>\n",
       "      <td>0.000000</td>\n",
       "    </tr>\n",
       "    <tr>\n",
       "      <th>25%</th>\n",
       "      <td>2019.000000</td>\n",
       "      <td>2012.000000</td>\n",
       "      <td>1.000000</td>\n",
       "      <td>0.950000</td>\n",
       "      <td>0.000000</td>\n",
       "      <td>0.000000</td>\n",
       "      <td>0.000000</td>\n",
       "      <td>0.000000</td>\n",
       "      <td>0.000000</td>\n",
       "      <td>0.000000</td>\n",
       "      <td>...</td>\n",
       "      <td>0.000000</td>\n",
       "      <td>0.000000</td>\n",
       "      <td>0.000000</td>\n",
       "      <td>0.000000</td>\n",
       "      <td>0.000000</td>\n",
       "      <td>0.000000</td>\n",
       "      <td>0.000000</td>\n",
       "      <td>0.000000</td>\n",
       "      <td>0.000000</td>\n",
       "      <td>2.000000</td>\n",
       "    </tr>\n",
       "    <tr>\n",
       "      <th>50%</th>\n",
       "      <td>2021.000000</td>\n",
       "      <td>2016.000000</td>\n",
       "      <td>10.000000</td>\n",
       "      <td>34.850000</td>\n",
       "      <td>1.000000</td>\n",
       "      <td>0.000000</td>\n",
       "      <td>0.000000</td>\n",
       "      <td>0.000000</td>\n",
       "      <td>0.000000</td>\n",
       "      <td>0.000000</td>\n",
       "      <td>...</td>\n",
       "      <td>1.000000</td>\n",
       "      <td>0.000000</td>\n",
       "      <td>0.000000</td>\n",
       "      <td>0.000000</td>\n",
       "      <td>0.000000</td>\n",
       "      <td>0.000000</td>\n",
       "      <td>0.000000</td>\n",
       "      <td>0.000000</td>\n",
       "      <td>1.000000</td>\n",
       "      <td>4.000000</td>\n",
       "    </tr>\n",
       "    <tr>\n",
       "      <th>75%</th>\n",
       "      <td>2023.000000</td>\n",
       "      <td>2020.000000</td>\n",
       "      <td>73.000000</td>\n",
       "      <td>190.000000</td>\n",
       "      <td>1.000000</td>\n",
       "      <td>1.000000</td>\n",
       "      <td>1.000000</td>\n",
       "      <td>0.000000</td>\n",
       "      <td>0.000000</td>\n",
       "      <td>0.000000</td>\n",
       "      <td>...</td>\n",
       "      <td>2.000000</td>\n",
       "      <td>0.000000</td>\n",
       "      <td>0.000000</td>\n",
       "      <td>1.000000</td>\n",
       "      <td>0.000000</td>\n",
       "      <td>0.500000</td>\n",
       "      <td>0.000000</td>\n",
       "      <td>0.000000</td>\n",
       "      <td>2.000000</td>\n",
       "      <td>5.000000</td>\n",
       "    </tr>\n",
       "    <tr>\n",
       "      <th>max</th>\n",
       "      <td>2023.000000</td>\n",
       "      <td>2029.000000</td>\n",
       "      <td>56400.000000</td>\n",
       "      <td>141000.000000</td>\n",
       "      <td>1.000000</td>\n",
       "      <td>1.000000</td>\n",
       "      <td>1.000000</td>\n",
       "      <td>1.000000</td>\n",
       "      <td>1.000000</td>\n",
       "      <td>1.000000</td>\n",
       "      <td>...</td>\n",
       "      <td>3.000000</td>\n",
       "      <td>1.000000</td>\n",
       "      <td>1.000000</td>\n",
       "      <td>1.000000</td>\n",
       "      <td>1.000000</td>\n",
       "      <td>1.000000</td>\n",
       "      <td>1.000000</td>\n",
       "      <td>1.000000</td>\n",
       "      <td>4.000000</td>\n",
       "      <td>10.000000</td>\n",
       "    </tr>\n",
       "  </tbody>\n",
       "</table>\n",
       "<p>8 rows × 47 columns</p>\n",
       "</div>"
      ],
      "text/plain": [
       "          year_pub     year_pro    n_turbines       capacity  local community  \\\n",
       "count   399.000000   382.000000    399.000000     399.000000       399.000000   \n",
       "mean   2019.982456  2014.960733    432.726817    1119.499556         0.543860   \n",
       "std       3.674193     6.594440   3308.817452    8144.914914         0.498698   \n",
       "min    2000.000000  1980.000000      0.000000       0.000000         0.000000   \n",
       "25%    2019.000000  2012.000000      1.000000       0.950000         0.000000   \n",
       "50%    2021.000000  2016.000000     10.000000      34.850000         1.000000   \n",
       "75%    2023.000000  2020.000000     73.000000     190.000000         1.000000   \n",
       "max    2023.000000  2029.000000  56400.000000  141000.000000         1.000000   \n",
       "\n",
       "       communities interest      public  small investors  cooperative  \\\n",
       "count            399.000000  399.000000       399.000000   399.000000   \n",
       "mean               0.433584    0.315789         0.195489     0.235589   \n",
       "std                0.496191    0.465413         0.397074     0.424899   \n",
       "min                0.000000    0.000000         0.000000     0.000000   \n",
       "25%                0.000000    0.000000         0.000000     0.000000   \n",
       "50%                0.000000    0.000000         0.000000     0.000000   \n",
       "75%                1.000000    1.000000         0.000000     0.000000   \n",
       "max                1.000000    1.000000         1.000000     1.000000   \n",
       "\n",
       "              NGO  ...     env_imp  innovation         tax    new jobs  \\\n",
       "count  399.000000  ...  399.000000  399.000000  399.000000  399.000000   \n",
       "mean     0.122807  ...    1.197995    0.223058    0.052632    0.265664   \n",
       "std      0.328628  ...    0.958116    0.416819    0.223577    0.442241   \n",
       "min      0.000000  ...    0.000000    0.000000    0.000000    0.000000   \n",
       "25%      0.000000  ...    0.000000    0.000000    0.000000    0.000000   \n",
       "50%      0.000000  ...    1.000000    0.000000    0.000000    0.000000   \n",
       "75%      0.000000  ...    2.000000    0.000000    0.000000    1.000000   \n",
       "max      1.000000  ...    3.000000    1.000000    1.000000    1.000000   \n",
       "\n",
       "          tourism  energy price  property price  livelihoods     eco_imp  \\\n",
       "count  399.000000    399.000000      399.000000   399.000000  399.000000   \n",
       "mean     0.075188      0.250627        0.050125     0.215539    1.132832   \n",
       "std      0.264025      0.433918        0.218477     0.411712    1.009950   \n",
       "min      0.000000      0.000000        0.000000     0.000000    0.000000   \n",
       "25%      0.000000      0.000000        0.000000     0.000000    0.000000   \n",
       "50%      0.000000      0.000000        0.000000     0.000000    1.000000   \n",
       "75%      0.000000      0.500000        0.000000     0.000000    2.000000   \n",
       "max      1.000000      1.000000        1.000000     1.000000    4.000000   \n",
       "\n",
       "        imp_score  \n",
       "count  399.000000  \n",
       "mean     3.619048  \n",
       "std      1.868877  \n",
       "min      0.000000  \n",
       "25%      2.000000  \n",
       "50%      4.000000  \n",
       "75%      5.000000  \n",
       "max     10.000000  \n",
       "\n",
       "[8 rows x 47 columns]"
      ]
     },
     "execution_count": 26,
     "metadata": {},
     "output_type": "execute_result"
    }
   ],
   "source": [
    "df.describe()"
   ]
  },
  {
   "cell_type": "code",
   "execution_count": 27,
   "id": "d561158e",
   "metadata": {},
   "outputs": [
    {
     "data": {
      "text/plain": [
       "Index(['ID', 'title', 'CS', 'source', 'year_pub', 'year_pro', 'publisher',\n",
       "       'link', 'province_state', 'country', 'region', 'technology',\n",
       "       'n_turbines', 'capacity', 'local community', 'communities interest',\n",
       "       'public', 'small investors', 'cooperative', 'NGO', 'organisation',\n",
       "       'government', 'municipality', 'experts', 'investors', 'turbines',\n",
       "       'onshore farm', 'offshore farm', 'company', 'policy', 'community ',\n",
       "       'repowering', 'other', 'mandate', 'main_level', 'level_score',\n",
       "       'other_levels', 'alibi', 'resistance', 'information', 'consultation ',\n",
       "       'financial ', 'cooperation ', 'scale', 'timing', 'opportunities',\n",
       "       'opportunities_score', 'noise', 'shadow-flicker', 'safety', 'health',\n",
       "       'landuse', 'access energy', 'awareness', 'community fund', 'soc_imp',\n",
       "       'emissions', 'biodiversity', 'landscape', 'env_imp', 'innovation',\n",
       "       'tax', 'new jobs', 'tourism', 'energy price', 'property price',\n",
       "       'livelihoods', 'eco_imp', 'imp_score', 'perceived_imp'],\n",
       "      dtype='object')"
      ]
     },
     "execution_count": 27,
     "metadata": {},
     "output_type": "execute_result"
    }
   ],
   "source": [
    "# checking the columns\n",
    "df.columns"
   ]
  },
  {
   "cell_type": "code",
   "execution_count": 28,
   "id": "b3bda87e",
   "metadata": {},
   "outputs": [
    {
     "data": {
      "text/html": [
       "<div>\n",
       "<style scoped>\n",
       "    .dataframe tbody tr th:only-of-type {\n",
       "        vertical-align: middle;\n",
       "    }\n",
       "\n",
       "    .dataframe tbody tr th {\n",
       "        vertical-align: top;\n",
       "    }\n",
       "\n",
       "    .dataframe thead th {\n",
       "        text-align: right;\n",
       "    }\n",
       "</style>\n",
       "<table border=\"1\" class=\"dataframe\">\n",
       "  <thead>\n",
       "    <tr style=\"text-align: right;\">\n",
       "      <th></th>\n",
       "      <th>ID</th>\n",
       "      <th>title</th>\n",
       "      <th>CS</th>\n",
       "      <th>source</th>\n",
       "      <th>year_pub</th>\n",
       "      <th>year_pro</th>\n",
       "      <th>publisher</th>\n",
       "      <th>link</th>\n",
       "      <th>province_state</th>\n",
       "      <th>country</th>\n",
       "      <th>...</th>\n",
       "      <th>innovation</th>\n",
       "      <th>tax</th>\n",
       "      <th>new jobs</th>\n",
       "      <th>tourism</th>\n",
       "      <th>energy price</th>\n",
       "      <th>property price</th>\n",
       "      <th>livelihoods</th>\n",
       "      <th>eco_imp</th>\n",
       "      <th>imp_score</th>\n",
       "      <th>perceived_imp</th>\n",
       "    </tr>\n",
       "  </thead>\n",
       "  <tbody>\n",
       "    <tr>\n",
       "      <th>count</th>\n",
       "      <td>399</td>\n",
       "      <td>399</td>\n",
       "      <td>399</td>\n",
       "      <td>399</td>\n",
       "      <td>399.000000</td>\n",
       "      <td>382.000000</td>\n",
       "      <td>399</td>\n",
       "      <td>399</td>\n",
       "      <td>399</td>\n",
       "      <td>399</td>\n",
       "      <td>...</td>\n",
       "      <td>399.000000</td>\n",
       "      <td>399.000000</td>\n",
       "      <td>399.000000</td>\n",
       "      <td>399.000000</td>\n",
       "      <td>399.000000</td>\n",
       "      <td>399.000000</td>\n",
       "      <td>399.000000</td>\n",
       "      <td>399.000000</td>\n",
       "      <td>399.000000</td>\n",
       "      <td>399</td>\n",
       "    </tr>\n",
       "    <tr>\n",
       "      <th>unique</th>\n",
       "      <td>399</td>\n",
       "      <td>387</td>\n",
       "      <td>2</td>\n",
       "      <td>8</td>\n",
       "      <td>NaN</td>\n",
       "      <td>NaN</td>\n",
       "      <td>166</td>\n",
       "      <td>343</td>\n",
       "      <td>234</td>\n",
       "      <td>46</td>\n",
       "      <td>...</td>\n",
       "      <td>NaN</td>\n",
       "      <td>NaN</td>\n",
       "      <td>NaN</td>\n",
       "      <td>NaN</td>\n",
       "      <td>NaN</td>\n",
       "      <td>NaN</td>\n",
       "      <td>NaN</td>\n",
       "      <td>NaN</td>\n",
       "      <td>NaN</td>\n",
       "      <td>5</td>\n",
       "    </tr>\n",
       "    <tr>\n",
       "      <th>top</th>\n",
       "      <td>a1</td>\n",
       "      <td>Horns Rev Offshore wind farm</td>\n",
       "      <td>yes</td>\n",
       "      <td>Journal article</td>\n",
       "      <td>NaN</td>\n",
       "      <td>NaN</td>\n",
       "      <td>Cordis Europe</td>\n",
       "      <td>https://vbn.aau.dk/en/publications/final-repor...</td>\n",
       "      <td>Not Applicable</td>\n",
       "      <td>United Kingdom</td>\n",
       "      <td>...</td>\n",
       "      <td>NaN</td>\n",
       "      <td>NaN</td>\n",
       "      <td>NaN</td>\n",
       "      <td>NaN</td>\n",
       "      <td>NaN</td>\n",
       "      <td>NaN</td>\n",
       "      <td>NaN</td>\n",
       "      <td>NaN</td>\n",
       "      <td>NaN</td>\n",
       "      <td>Moderate positive</td>\n",
       "    </tr>\n",
       "    <tr>\n",
       "      <th>freq</th>\n",
       "      <td>1</td>\n",
       "      <td>4</td>\n",
       "      <td>319</td>\n",
       "      <td>145</td>\n",
       "      <td>NaN</td>\n",
       "      <td>NaN</td>\n",
       "      <td>64</td>\n",
       "      <td>5</td>\n",
       "      <td>103</td>\n",
       "      <td>45</td>\n",
       "      <td>...</td>\n",
       "      <td>NaN</td>\n",
       "      <td>NaN</td>\n",
       "      <td>NaN</td>\n",
       "      <td>NaN</td>\n",
       "      <td>NaN</td>\n",
       "      <td>NaN</td>\n",
       "      <td>NaN</td>\n",
       "      <td>NaN</td>\n",
       "      <td>NaN</td>\n",
       "      <td>165</td>\n",
       "    </tr>\n",
       "    <tr>\n",
       "      <th>mean</th>\n",
       "      <td>NaN</td>\n",
       "      <td>NaN</td>\n",
       "      <td>NaN</td>\n",
       "      <td>NaN</td>\n",
       "      <td>2019.982456</td>\n",
       "      <td>2014.960733</td>\n",
       "      <td>NaN</td>\n",
       "      <td>NaN</td>\n",
       "      <td>NaN</td>\n",
       "      <td>NaN</td>\n",
       "      <td>...</td>\n",
       "      <td>0.223058</td>\n",
       "      <td>0.052632</td>\n",
       "      <td>0.265664</td>\n",
       "      <td>0.075188</td>\n",
       "      <td>0.250627</td>\n",
       "      <td>0.050125</td>\n",
       "      <td>0.215539</td>\n",
       "      <td>1.132832</td>\n",
       "      <td>3.619048</td>\n",
       "      <td>NaN</td>\n",
       "    </tr>\n",
       "    <tr>\n",
       "      <th>std</th>\n",
       "      <td>NaN</td>\n",
       "      <td>NaN</td>\n",
       "      <td>NaN</td>\n",
       "      <td>NaN</td>\n",
       "      <td>3.674193</td>\n",
       "      <td>6.594440</td>\n",
       "      <td>NaN</td>\n",
       "      <td>NaN</td>\n",
       "      <td>NaN</td>\n",
       "      <td>NaN</td>\n",
       "      <td>...</td>\n",
       "      <td>0.416819</td>\n",
       "      <td>0.223577</td>\n",
       "      <td>0.442241</td>\n",
       "      <td>0.264025</td>\n",
       "      <td>0.433918</td>\n",
       "      <td>0.218477</td>\n",
       "      <td>0.411712</td>\n",
       "      <td>1.009950</td>\n",
       "      <td>1.868877</td>\n",
       "      <td>NaN</td>\n",
       "    </tr>\n",
       "    <tr>\n",
       "      <th>min</th>\n",
       "      <td>NaN</td>\n",
       "      <td>NaN</td>\n",
       "      <td>NaN</td>\n",
       "      <td>NaN</td>\n",
       "      <td>2000.000000</td>\n",
       "      <td>1980.000000</td>\n",
       "      <td>NaN</td>\n",
       "      <td>NaN</td>\n",
       "      <td>NaN</td>\n",
       "      <td>NaN</td>\n",
       "      <td>...</td>\n",
       "      <td>0.000000</td>\n",
       "      <td>0.000000</td>\n",
       "      <td>0.000000</td>\n",
       "      <td>0.000000</td>\n",
       "      <td>0.000000</td>\n",
       "      <td>0.000000</td>\n",
       "      <td>0.000000</td>\n",
       "      <td>0.000000</td>\n",
       "      <td>0.000000</td>\n",
       "      <td>NaN</td>\n",
       "    </tr>\n",
       "    <tr>\n",
       "      <th>25%</th>\n",
       "      <td>NaN</td>\n",
       "      <td>NaN</td>\n",
       "      <td>NaN</td>\n",
       "      <td>NaN</td>\n",
       "      <td>2019.000000</td>\n",
       "      <td>2012.000000</td>\n",
       "      <td>NaN</td>\n",
       "      <td>NaN</td>\n",
       "      <td>NaN</td>\n",
       "      <td>NaN</td>\n",
       "      <td>...</td>\n",
       "      <td>0.000000</td>\n",
       "      <td>0.000000</td>\n",
       "      <td>0.000000</td>\n",
       "      <td>0.000000</td>\n",
       "      <td>0.000000</td>\n",
       "      <td>0.000000</td>\n",
       "      <td>0.000000</td>\n",
       "      <td>0.000000</td>\n",
       "      <td>2.000000</td>\n",
       "      <td>NaN</td>\n",
       "    </tr>\n",
       "    <tr>\n",
       "      <th>50%</th>\n",
       "      <td>NaN</td>\n",
       "      <td>NaN</td>\n",
       "      <td>NaN</td>\n",
       "      <td>NaN</td>\n",
       "      <td>2021.000000</td>\n",
       "      <td>2016.000000</td>\n",
       "      <td>NaN</td>\n",
       "      <td>NaN</td>\n",
       "      <td>NaN</td>\n",
       "      <td>NaN</td>\n",
       "      <td>...</td>\n",
       "      <td>0.000000</td>\n",
       "      <td>0.000000</td>\n",
       "      <td>0.000000</td>\n",
       "      <td>0.000000</td>\n",
       "      <td>0.000000</td>\n",
       "      <td>0.000000</td>\n",
       "      <td>0.000000</td>\n",
       "      <td>1.000000</td>\n",
       "      <td>4.000000</td>\n",
       "      <td>NaN</td>\n",
       "    </tr>\n",
       "    <tr>\n",
       "      <th>75%</th>\n",
       "      <td>NaN</td>\n",
       "      <td>NaN</td>\n",
       "      <td>NaN</td>\n",
       "      <td>NaN</td>\n",
       "      <td>2023.000000</td>\n",
       "      <td>2020.000000</td>\n",
       "      <td>NaN</td>\n",
       "      <td>NaN</td>\n",
       "      <td>NaN</td>\n",
       "      <td>NaN</td>\n",
       "      <td>...</td>\n",
       "      <td>0.000000</td>\n",
       "      <td>0.000000</td>\n",
       "      <td>1.000000</td>\n",
       "      <td>0.000000</td>\n",
       "      <td>0.500000</td>\n",
       "      <td>0.000000</td>\n",
       "      <td>0.000000</td>\n",
       "      <td>2.000000</td>\n",
       "      <td>5.000000</td>\n",
       "      <td>NaN</td>\n",
       "    </tr>\n",
       "    <tr>\n",
       "      <th>max</th>\n",
       "      <td>NaN</td>\n",
       "      <td>NaN</td>\n",
       "      <td>NaN</td>\n",
       "      <td>NaN</td>\n",
       "      <td>2023.000000</td>\n",
       "      <td>2029.000000</td>\n",
       "      <td>NaN</td>\n",
       "      <td>NaN</td>\n",
       "      <td>NaN</td>\n",
       "      <td>NaN</td>\n",
       "      <td>...</td>\n",
       "      <td>1.000000</td>\n",
       "      <td>1.000000</td>\n",
       "      <td>1.000000</td>\n",
       "      <td>1.000000</td>\n",
       "      <td>1.000000</td>\n",
       "      <td>1.000000</td>\n",
       "      <td>1.000000</td>\n",
       "      <td>4.000000</td>\n",
       "      <td>10.000000</td>\n",
       "      <td>NaN</td>\n",
       "    </tr>\n",
       "  </tbody>\n",
       "</table>\n",
       "<p>11 rows × 70 columns</p>\n",
       "</div>"
      ],
      "text/plain": [
       "         ID                         title   CS           source     year_pub  \\\n",
       "count   399                           399  399              399   399.000000   \n",
       "unique  399                           387    2                8          NaN   \n",
       "top      a1  Horns Rev Offshore wind farm  yes  Journal article          NaN   \n",
       "freq      1                             4  319              145          NaN   \n",
       "mean    NaN                           NaN  NaN              NaN  2019.982456   \n",
       "std     NaN                           NaN  NaN              NaN     3.674193   \n",
       "min     NaN                           NaN  NaN              NaN  2000.000000   \n",
       "25%     NaN                           NaN  NaN              NaN  2019.000000   \n",
       "50%     NaN                           NaN  NaN              NaN  2021.000000   \n",
       "75%     NaN                           NaN  NaN              NaN  2023.000000   \n",
       "max     NaN                           NaN  NaN              NaN  2023.000000   \n",
       "\n",
       "           year_pro      publisher  \\\n",
       "count    382.000000            399   \n",
       "unique          NaN            166   \n",
       "top             NaN  Cordis Europe   \n",
       "freq            NaN             64   \n",
       "mean    2014.960733            NaN   \n",
       "std        6.594440            NaN   \n",
       "min     1980.000000            NaN   \n",
       "25%     2012.000000            NaN   \n",
       "50%     2016.000000            NaN   \n",
       "75%     2020.000000            NaN   \n",
       "max     2029.000000            NaN   \n",
       "\n",
       "                                                     link  province_state  \\\n",
       "count                                                 399             399   \n",
       "unique                                                343             234   \n",
       "top     https://vbn.aau.dk/en/publications/final-repor...  Not Applicable   \n",
       "freq                                                    5             103   \n",
       "mean                                                  NaN             NaN   \n",
       "std                                                   NaN             NaN   \n",
       "min                                                   NaN             NaN   \n",
       "25%                                                   NaN             NaN   \n",
       "50%                                                   NaN             NaN   \n",
       "75%                                                   NaN             NaN   \n",
       "max                                                   NaN             NaN   \n",
       "\n",
       "               country  ...  innovation         tax    new jobs     tourism  \\\n",
       "count              399  ...  399.000000  399.000000  399.000000  399.000000   \n",
       "unique              46  ...         NaN         NaN         NaN         NaN   \n",
       "top     United Kingdom  ...         NaN         NaN         NaN         NaN   \n",
       "freq                45  ...         NaN         NaN         NaN         NaN   \n",
       "mean               NaN  ...    0.223058    0.052632    0.265664    0.075188   \n",
       "std                NaN  ...    0.416819    0.223577    0.442241    0.264025   \n",
       "min                NaN  ...    0.000000    0.000000    0.000000    0.000000   \n",
       "25%                NaN  ...    0.000000    0.000000    0.000000    0.000000   \n",
       "50%                NaN  ...    0.000000    0.000000    0.000000    0.000000   \n",
       "75%                NaN  ...    0.000000    0.000000    1.000000    0.000000   \n",
       "max                NaN  ...    1.000000    1.000000    1.000000    1.000000   \n",
       "\n",
       "        energy price  property price  livelihoods     eco_imp   imp_score  \\\n",
       "count     399.000000      399.000000   399.000000  399.000000  399.000000   \n",
       "unique           NaN             NaN          NaN         NaN         NaN   \n",
       "top              NaN             NaN          NaN         NaN         NaN   \n",
       "freq             NaN             NaN          NaN         NaN         NaN   \n",
       "mean        0.250627        0.050125     0.215539    1.132832    3.619048   \n",
       "std         0.433918        0.218477     0.411712    1.009950    1.868877   \n",
       "min         0.000000        0.000000     0.000000    0.000000    0.000000   \n",
       "25%         0.000000        0.000000     0.000000    0.000000    2.000000   \n",
       "50%         0.000000        0.000000     0.000000    1.000000    4.000000   \n",
       "75%         0.500000        0.000000     0.000000    2.000000    5.000000   \n",
       "max         1.000000        1.000000     1.000000    4.000000   10.000000   \n",
       "\n",
       "            perceived_imp  \n",
       "count                 399  \n",
       "unique                  5  \n",
       "top     Moderate positive  \n",
       "freq                  165  \n",
       "mean                  NaN  \n",
       "std                   NaN  \n",
       "min                   NaN  \n",
       "25%                   NaN  \n",
       "50%                   NaN  \n",
       "75%                   NaN  \n",
       "max                   NaN  \n",
       "\n",
       "[11 rows x 70 columns]"
      ]
     },
     "execution_count": 28,
     "metadata": {},
     "output_type": "execute_result"
    }
   ],
   "source": [
    "df.describe(include = 'all') "
   ]
  },
  {
   "cell_type": "code",
   "execution_count": 29,
   "id": "3d0efa88",
   "metadata": {},
   "outputs": [
    {
     "data": {
      "text/plain": [
       "Africa              9\n",
       "Australia          11\n",
       "Asia               16\n",
       "South America      21\n",
       "Not Applicable     22\n",
       "Eastern Europe     25\n",
       "Southern Europe    43\n",
       "Central Europe     44\n",
       "North America      54\n",
       "Western Europe     65\n",
       "Northern Europe    89\n",
       "Name: region, dtype: int64"
      ]
     },
     "execution_count": 29,
     "metadata": {},
     "output_type": "execute_result"
    }
   ],
   "source": [
    "df['region'].value_counts().sort_values(ascending = True)"
   ]
  },
  {
   "cell_type": "code",
   "execution_count": 30,
   "id": "8f9a13c5",
   "metadata": {},
   "outputs": [
    {
     "data": {
      "text/plain": [
       "Local            0.436090\n",
       "Regional         0.288221\n",
       "National         0.218045\n",
       "Transnational    0.057644\n",
       "Name: scale, dtype: float64"
      ]
     },
     "execution_count": 30,
     "metadata": {},
     "output_type": "execute_result"
    }
   ],
   "source": [
    "#frequency of scale\n",
    "df['scale'].value_counts(normalize=True)"
   ]
  },
  {
   "cell_type": "code",
   "execution_count": 31,
   "id": "5ebaea18",
   "metadata": {},
   "outputs": [
    {
     "data": {
      "text/plain": [
       "Journal article          0.363409\n",
       "Community website        0.180451\n",
       "Report –  EU project     0.142857\n",
       "Wiki                     0.140351\n",
       "News media               0.065163\n",
       "Blog post                0.050125\n",
       "Report – other           0.037594\n",
       "Thesis                   0.020050\n",
       "Name: source, dtype: float64"
      ]
     },
     "execution_count": 31,
     "metadata": {},
     "output_type": "execute_result"
    }
   ],
   "source": [
    "df['source'].value_counts(normalize=True)"
   ]
  },
  {
   "cell_type": "code",
   "execution_count": 32,
   "id": "6f07ecf5",
   "metadata": {},
   "outputs": [
    {
     "data": {
      "text/plain": [
       "Onshore Wind        0.711779\n",
       "Offshore Wind       0.150376\n",
       "Not Applicable      0.062657\n",
       "Small Wind          0.040100\n",
       "On and Offshore     0.035088\n",
       "Name: technology, dtype: float64"
      ]
     },
     "execution_count": 32,
     "metadata": {},
     "output_type": "execute_result"
    }
   ],
   "source": [
    "df['technology'].value_counts(normalize=True)"
   ]
  },
  {
   "cell_type": "code",
   "execution_count": 33,
   "id": "299b1e61",
   "metadata": {},
   "outputs": [
    {
     "data": {
      "text/plain": [
       "Voluntary            275\n",
       "Legal Obligation      79\n",
       "Not applicable        45\n",
       "Name: mandate, dtype: int64"
      ]
     },
     "execution_count": 33,
     "metadata": {},
     "output_type": "execute_result"
    }
   ],
   "source": [
    "df['mandate'].value_counts()"
   ]
  },
  {
   "cell_type": "code",
   "execution_count": 34,
   "id": "e7b2d440",
   "metadata": {},
   "outputs": [
    {
     "data": {
      "text/plain": [
       "Consultation        124\n",
       "Financial            87\n",
       "Cooperation          64\n",
       "Information          55\n",
       "Resistance           50\n",
       "No participation     14\n",
       "Alibi                 5\n",
       "Name: main_level, dtype: int64"
      ]
     },
     "execution_count": 34,
     "metadata": {},
     "output_type": "execute_result"
    }
   ],
   "source": [
    "df['main_level'].value_counts()"
   ]
  },
  {
   "cell_type": "code",
   "execution_count": 35,
   "id": "9289756d",
   "metadata": {},
   "outputs": [
    {
     "data": {
      "text/plain": [
       "array([[<AxesSubplot:title={'center':'year_pub'}>,\n",
       "        <AxesSubplot:title={'center':'year_pro'}>,\n",
       "        <AxesSubplot:title={'center':'n_turbines'}>,\n",
       "        <AxesSubplot:title={'center':'capacity'}>,\n",
       "        <AxesSubplot:title={'center':'local community'}>,\n",
       "        <AxesSubplot:title={'center':'communities interest'}>,\n",
       "        <AxesSubplot:title={'center':'public'}>],\n",
       "       [<AxesSubplot:title={'center':'small investors'}>,\n",
       "        <AxesSubplot:title={'center':'cooperative'}>,\n",
       "        <AxesSubplot:title={'center':'NGO'}>,\n",
       "        <AxesSubplot:title={'center':'organisation'}>,\n",
       "        <AxesSubplot:title={'center':'government'}>,\n",
       "        <AxesSubplot:title={'center':'municipality'}>,\n",
       "        <AxesSubplot:title={'center':'experts'}>],\n",
       "       [<AxesSubplot:title={'center':'investors'}>,\n",
       "        <AxesSubplot:title={'center':'turbines'}>,\n",
       "        <AxesSubplot:title={'center':'onshore farm'}>,\n",
       "        <AxesSubplot:title={'center':'offshore farm'}>,\n",
       "        <AxesSubplot:title={'center':'company'}>,\n",
       "        <AxesSubplot:title={'center':'policy'}>,\n",
       "        <AxesSubplot:title={'center':'community '}>],\n",
       "       [<AxesSubplot:title={'center':'repowering'}>,\n",
       "        <AxesSubplot:title={'center':'other'}>,\n",
       "        <AxesSubplot:title={'center':'level_score'}>,\n",
       "        <AxesSubplot:title={'center':'opportunities_score'}>,\n",
       "        <AxesSubplot:title={'center':'noise'}>,\n",
       "        <AxesSubplot:title={'center':'shadow-flicker'}>,\n",
       "        <AxesSubplot:title={'center':'safety'}>],\n",
       "       [<AxesSubplot:title={'center':'health'}>,\n",
       "        <AxesSubplot:title={'center':'landuse'}>,\n",
       "        <AxesSubplot:title={'center':'access energy'}>,\n",
       "        <AxesSubplot:title={'center':'awareness'}>,\n",
       "        <AxesSubplot:title={'center':'community fund'}>,\n",
       "        <AxesSubplot:title={'center':'soc_imp'}>,\n",
       "        <AxesSubplot:title={'center':'emissions'}>],\n",
       "       [<AxesSubplot:title={'center':'biodiversity'}>,\n",
       "        <AxesSubplot:title={'center':'landscape'}>,\n",
       "        <AxesSubplot:title={'center':'env_imp'}>,\n",
       "        <AxesSubplot:title={'center':'innovation'}>,\n",
       "        <AxesSubplot:title={'center':'tax'}>,\n",
       "        <AxesSubplot:title={'center':'new jobs'}>,\n",
       "        <AxesSubplot:title={'center':'tourism'}>],\n",
       "       [<AxesSubplot:title={'center':'energy price'}>,\n",
       "        <AxesSubplot:title={'center':'property price'}>,\n",
       "        <AxesSubplot:title={'center':'livelihoods'}>,\n",
       "        <AxesSubplot:title={'center':'eco_imp'}>,\n",
       "        <AxesSubplot:title={'center':'imp_score'}>, <AxesSubplot:>,\n",
       "        <AxesSubplot:>]], dtype=object)"
      ]
     },
     "execution_count": 35,
     "metadata": {},
     "output_type": "execute_result"
    },
    {
     "data": {
      "image/png": "[encoded data removed]",
      "text/plain": [
       "<Figure size 2000x1200 with 49 Axes>"
      ]
     },
     "metadata": {},
     "output_type": "display_data"
    }
   ],
   "source": [
    "df.hist(bins=30,figsize=(20,12), color = 'skyblue')"
   ]
  },
  {
   "cell_type": "code",
   "execution_count": 36,
   "id": "6ac8a98e",
   "metadata": {},
   "outputs": [
    {
     "name": "stdout",
     "output_type": "stream",
     "text": [
      "1.4756795060784382\n",
      "6\n",
      "0\n",
      "3.9724310776942358\n"
     ]
    }
   ],
   "source": [
    "#key stats for the level score\n",
    "print(df['level_score'].std())\n",
    "print(df['level_score'].max())\n",
    "print(df['level_score'].min())\n",
    "print(df['level_score'].mean())"
   ]
  },
  {
   "cell_type": "code",
   "execution_count": 37,
   "id": "b4e82eb3",
   "metadata": {},
   "outputs": [
    {
     "name": "stdout",
     "output_type": "stream",
     "text": [
      "1.8688770968831432\n",
      "10\n",
      "0\n",
      "3.619047619047619\n"
     ]
    }
   ],
   "source": [
    "#key stats for the impact score\n",
    "print(df['imp_score'].std())\n",
    "print(df['imp_score'].max())\n",
    "print(df['imp_score'].min())\n",
    "print(df['imp_score'].mean())"
   ]
  },
  {
   "cell_type": "code",
   "execution_count": 38,
   "id": "abcddb6c",
   "metadata": {},
   "outputs": [
    {
     "name": "stdout",
     "output_type": "stream",
     "text": [
      "1.1559922933958737\n",
      "5\n",
      "0\n",
      "1.2882205513784462\n"
     ]
    }
   ],
   "source": [
    "#key stats for the social impact score\n",
    "print(df['soc_imp'].std())\n",
    "print(df['soc_imp'].max())\n",
    "print(df['soc_imp'].min())\n",
    "print(df['soc_imp'].mean())"
   ]
  },
  {
   "cell_type": "code",
   "execution_count": 39,
   "id": "c80361bd",
   "metadata": {},
   "outputs": [
    {
     "data": {
      "text/plain": [
       "Journal article          145\n",
       "Community website         72\n",
       "Report –  EU project      57\n",
       "Wiki                      56\n",
       "News media                26\n",
       "Blog post                 20\n",
       "Report – other            15\n",
       "Thesis                     8\n",
       "Name: source, dtype: int64"
      ]
     },
     "execution_count": 39,
     "metadata": {},
     "output_type": "execute_result"
    }
   ],
   "source": [
    "df['source'].value_counts ()"
   ]
  },
  {
   "cell_type": "code",
   "execution_count": 40,
   "id": "7594b9f3",
   "metadata": {},
   "outputs": [
    {
     "data": {
      "text/plain": [
       "General Assembly                49\n",
       "Working groups                  12\n",
       "Transdisciplinary committees     7\n",
       "Trusted third party              4\n",
       "Public agreements                3\n",
       "Personal invite                  3\n",
       "Name: cooperation , dtype: int64"
      ]
     },
     "execution_count": 40,
     "metadata": {},
     "output_type": "execute_result"
    }
   ],
   "source": [
    "df['cooperation '].value_counts ()"
   ]
  },
  {
   "cell_type": "code",
   "execution_count": 41,
   "id": "bc4fc9a9",
   "metadata": {},
   "outputs": [
    {
     "data": {
      "text/plain": [
       "Citizen investors         61\n",
       "Community ownership       40\n",
       "Compensation              12\n",
       "Land lease                12\n",
       "Community Fund             8\n",
       "Energy discounts           5\n",
       "Municipal co-ownership     4\n",
       "Donations                  4\n",
       "In-kind                    3\n",
       "Tax revenues               3\n",
       "Bonus pay                  3\n",
       "Name: financial , dtype: int64"
      ]
     },
     "execution_count": 41,
     "metadata": {},
     "output_type": "execute_result"
    }
   ],
   "source": [
    "df['financial '].value_counts ()"
   ]
  },
  {
   "cell_type": "code",
   "execution_count": 42,
   "id": "7b6bda80",
   "metadata": {},
   "outputs": [
    {
     "data": {
      "text/plain": [
       "Protests     21\n",
       "Campaigns    12\n",
       "Legal        12\n",
       "Petition      5\n",
       "Online        4\n",
       "Sabotage      1\n",
       "Name: resistance, dtype: int64"
      ]
     },
     "execution_count": 42,
     "metadata": {},
     "output_type": "execute_result"
    }
   ],
   "source": [
    "df['resistance'].value_counts ()"
   ]
  },
  {
   "cell_type": "code",
   "execution_count": 43,
   "id": "df24b94c",
   "metadata": {},
   "outputs": [
    {
     "data": {
      "text/plain": [
       "Website          21\n",
       "Dissemination    17\n",
       "Presentation     17\n",
       "Inquiries        13\n",
       "News media       10\n",
       "Promotions        5\n",
       "Education         4\n",
       "Quality label     2\n",
       "Personal          2\n",
       "Name: information, dtype: int64"
      ]
     },
     "execution_count": 43,
     "metadata": {},
     "output_type": "execute_result"
    }
   ],
   "source": [
    "df['information'].value_counts ()"
   ]
  },
  {
   "cell_type": "code",
   "execution_count": 44,
   "id": "6a133d13",
   "metadata": {},
   "outputs": [
    {
     "data": {
      "text/plain": [
       "Surveys                36\n",
       "Formal                 25\n",
       "Hearing                19\n",
       "Interviews             18\n",
       "Workshops              16\n",
       "Community Committee    13\n",
       "Dialogue                9\n",
       "Online forums           3\n",
       "Referendum              2\n",
       "Citizen Juries          1\n",
       "Focus groups            1\n",
       "Name: consultation , dtype: int64"
      ]
     },
     "execution_count": 44,
     "metadata": {},
     "output_type": "execute_result"
    }
   ],
   "source": [
    "df['consultation '].value_counts ()"
   ]
  },
  {
   "cell_type": "code",
   "execution_count": 45,
   "id": "778d52ea",
   "metadata": {},
   "outputs": [
    {
     "data": {
      "text/plain": [
       "Northern Europe    0.223058\n",
       "Western Europe     0.162907\n",
       "North America      0.135338\n",
       "Central Europe     0.110276\n",
       "Southern Europe    0.107769\n",
       "Eastern Europe     0.062657\n",
       "Not Applicable     0.055138\n",
       "South America      0.052632\n",
       "Asia               0.040100\n",
       "Australia          0.027569\n",
       "Africa             0.022556\n",
       "Name: region, dtype: float64"
      ]
     },
     "execution_count": 45,
     "metadata": {},
     "output_type": "execute_result"
    }
   ],
   "source": [
    "df['region'].value_counts(normalize=True)"
   ]
  },
  {
   "cell_type": "markdown",
   "id": "096f4174",
   "metadata": {},
   "source": [
    "#### 5.1 Data Visualizations"
   ]
  },
  {
   "cell_type": "markdown",
   "id": "f8518885",
   "metadata": {},
   "source": [
    "For colors, I'm using this color palette from coloors: https://coolors.co/palette/264653-2a9d8f-e9c46a-f4a261-e76f51"
   ]
  },
  {
   "cell_type": "code",
   "execution_count": 46,
   "id": "1eec9857",
   "metadata": {},
   "outputs": [
    {
     "name": "stdout",
     "output_type": "stream",
     "text": [
      "Local            0.436090\n",
      "Regional         0.288221\n",
      "National         0.218045\n",
      "Transnational    0.057644\n",
      "Name: scale, dtype: float64\n"
     ]
    },
    {
     "data": {
      "text/plain": [
       "Text(0.5, 1.0, 'Participatory Practices in Wind Energy by Scale of Governance')"
      ]
     },
     "execution_count": 46,
     "metadata": {},
     "output_type": "execute_result"
    },
    {
     "data": {
      "image/png": "[encoded data removed]",
      "text/plain": [
       "<Figure size 640x480 with 1 Axes>"
      ]
     },
     "metadata": {},
     "output_type": "display_data"
    }
   ],
   "source": [
    "df2 = df['scale'].value_counts(normalize=True)\n",
    "colors=color=['#264653','#2a9d8f','#e9c46a','#f4a261','#e76f51']\n",
    "\n",
    "print(df2)\n",
    "\n",
    "df2.plot.pie(colors=colors)\n",
    "plt.title('Participatory Practices in Wind Energy by Scale of Governance',fontsize=10)\n"
   ]
  },
  {
   "cell_type": "code",
   "execution_count": 47,
   "id": "852d9c69",
   "metadata": {},
   "outputs": [
    {
     "name": "stdout",
     "output_type": "stream",
     "text": [
      "Onshore Wind        0.711779\n",
      "Offshore Wind       0.150376\n",
      "Not Applicable      0.062657\n",
      "Small Wind          0.040100\n",
      "On and Offshore     0.035088\n",
      "Name: technology, dtype: float64\n"
     ]
    },
    {
     "data": {
      "text/plain": [
       "Text(0.5, 1.0, 'Participatory Practices in Wind Energy by Technology')"
      ]
     },
     "execution_count": 47,
     "metadata": {},
     "output_type": "execute_result"
    },
    {
     "data": {
      "image/png": "[encoded data removed]",
      "text/plain": [
       "<Figure size 640x480 with 1 Axes>"
      ]
     },
     "metadata": {},
     "output_type": "display_data"
    }
   ],
   "source": [
    "df3 = df['technology'].value_counts(normalize=True)\n",
    "\n",
    "print(df3)\n",
    "\n",
    "df3.plot.pie(colors=colors)\n",
    "plt.title('Participatory Practices in Wind Energy by Technology',fontsize=10)"
   ]
  },
  {
   "cell_type": "code",
   "execution_count": 48,
   "id": "c2a5d99e",
   "metadata": {},
   "outputs": [
    {
     "name": "stdout",
     "output_type": "stream",
     "text": [
      "Journal article          0.363409\n",
      "Community website        0.180451\n",
      "Report –  EU project     0.142857\n",
      "Wiki                     0.140351\n",
      "News media               0.065163\n",
      "Blog post                0.050125\n",
      "Report – other           0.037594\n",
      "Thesis                   0.020050\n",
      "Name: source, dtype: float64\n"
     ]
    },
    {
     "data": {
      "text/plain": [
       "Text(0.5, 1.0, 'Source of Documents Reviewed')"
      ]
     },
     "execution_count": 48,
     "metadata": {},
     "output_type": "execute_result"
    },
    {
     "data": {
      "image/png": "[encoded data removed]",
      "text/plain": [
       "<Figure size 640x480 with 1 Axes>"
      ]
     },
     "metadata": {},
     "output_type": "display_data"
    }
   ],
   "source": [
    "df4 = df['source'].value_counts(normalize=True)\n",
    "colors=color2=['#264653','#2a9d8f','#219ebc','#e9c46a','#f4a261','#e76f51','#606c38','#dda15e']\n",
    "print(df4)\n",
    "\n",
    "df4.plot.pie(colors=colors)\n",
    "plt.title('Source of Documents Reviewed',fontsize=10)"
   ]
  },
  {
   "cell_type": "code",
   "execution_count": 49,
   "id": "0cf3472c",
   "metadata": {},
   "outputs": [
    {
     "data": {
      "text/plain": [
       "<AxesSubplot:>"
      ]
     },
     "execution_count": 49,
     "metadata": {},
     "output_type": "execute_result"
    },
    {
     "data": {
      "image/png": "[encoded data removed]",
      "text/plain": [
       "<Figure size 640x480 with 1 Axes>"
      ]
     },
     "metadata": {},
     "output_type": "display_data"
    }
   ],
   "source": [
    "df['level_score'].plot.box()"
   ]
  },
  {
   "cell_type": "code",
   "execution_count": 50,
   "id": "0b8b56e5",
   "metadata": {},
   "outputs": [
    {
     "data": {
      "text/plain": [
       "<AxesSubplot:>"
      ]
     },
     "execution_count": 50,
     "metadata": {},
     "output_type": "execute_result"
    },
    {
     "data": {
      "image/png": "[encoded data removed]",
      "text/plain": [
       "<Figure size 640x480 with 1 Axes>"
      ]
     },
     "metadata": {},
     "output_type": "display_data"
    }
   ],
   "source": [
    "df['opportunities_score'].plot.box()"
   ]
  },
  {
   "cell_type": "code",
   "execution_count": 51,
   "id": "f4535350",
   "metadata": {},
   "outputs": [
    {
     "data": {
      "text/plain": [
       "<AxesSubplot:>"
      ]
     },
     "execution_count": 51,
     "metadata": {},
     "output_type": "execute_result"
    },
    {
     "data": {
      "image/png": "[encoded data removed]",
      "text/plain": [
       "<Figure size 640x480 with 1 Axes>"
      ]
     },
     "metadata": {},
     "output_type": "display_data"
    }
   ],
   "source": [
    "df['imp_score'].plot.box()"
   ]
  },
  {
   "cell_type": "code",
   "execution_count": 52,
   "id": "df0d0ff1",
   "metadata": {},
   "outputs": [
    {
     "data": {
      "text/html": [
       "<div>\n",
       "<style scoped>\n",
       "    .dataframe tbody tr th:only-of-type {\n",
       "        vertical-align: middle;\n",
       "    }\n",
       "\n",
       "    .dataframe tbody tr th {\n",
       "        vertical-align: top;\n",
       "    }\n",
       "\n",
       "    .dataframe thead th {\n",
       "        text-align: right;\n",
       "    }\n",
       "</style>\n",
       "<table border=\"1\" class=\"dataframe\">\n",
       "  <thead>\n",
       "    <tr style=\"text-align: right;\">\n",
       "      <th></th>\n",
       "      <th>region</th>\n",
       "      <th>level_score</th>\n",
       "    </tr>\n",
       "  </thead>\n",
       "  <tbody>\n",
       "    <tr>\n",
       "      <th>10</th>\n",
       "      <td>Western Europe</td>\n",
       "      <td>4.892308</td>\n",
       "    </tr>\n",
       "    <tr>\n",
       "      <th>7</th>\n",
       "      <td>Not Applicable</td>\n",
       "      <td>4.318182</td>\n",
       "    </tr>\n",
       "    <tr>\n",
       "      <th>2</th>\n",
       "      <td>Australia</td>\n",
       "      <td>4.272727</td>\n",
       "    </tr>\n",
       "    <tr>\n",
       "      <th>3</th>\n",
       "      <td>Central Europe</td>\n",
       "      <td>4.022727</td>\n",
       "    </tr>\n",
       "    <tr>\n",
       "      <th>0</th>\n",
       "      <td>Africa</td>\n",
       "      <td>4.000000</td>\n",
       "    </tr>\n",
       "    <tr>\n",
       "      <th>6</th>\n",
       "      <td>Northern Europe</td>\n",
       "      <td>3.887640</td>\n",
       "    </tr>\n",
       "    <tr>\n",
       "      <th>9</th>\n",
       "      <td>Southern Europe</td>\n",
       "      <td>3.813953</td>\n",
       "    </tr>\n",
       "    <tr>\n",
       "      <th>5</th>\n",
       "      <td>North America</td>\n",
       "      <td>3.796296</td>\n",
       "    </tr>\n",
       "    <tr>\n",
       "      <th>4</th>\n",
       "      <td>Eastern Europe</td>\n",
       "      <td>3.720000</td>\n",
       "    </tr>\n",
       "    <tr>\n",
       "      <th>1</th>\n",
       "      <td>Asia</td>\n",
       "      <td>2.875000</td>\n",
       "    </tr>\n",
       "  </tbody>\n",
       "</table>\n",
       "</div>"
      ],
      "text/plain": [
       "             region  level_score\n",
       "10   Western Europe     4.892308\n",
       "7    Not Applicable     4.318182\n",
       "2         Australia     4.272727\n",
       "3    Central Europe     4.022727\n",
       "0            Africa     4.000000\n",
       "6   Northern Europe     3.887640\n",
       "9   Southern Europe     3.813953\n",
       "5     North America     3.796296\n",
       "4    Eastern Europe     3.720000\n",
       "1              Asia     2.875000"
      ]
     },
     "execution_count": 52,
     "metadata": {},
     "output_type": "execute_result"
    }
   ],
   "source": [
    "#compare top 10 values for region based on level of participation \n",
    "top_10 = (\n",
    "    df                                                                                       \n",
    "    .groupby('region')['level_score'].mean()                        \n",
    "    .reset_index()\n",
    "    .sort_values('level_score', ascending = False)\n",
    "    .iloc[:10]\n",
    ")\n",
    "top_10"
   ]
  },
  {
   "cell_type": "code",
   "execution_count": 53,
   "id": "cb31a44b",
   "metadata": {},
   "outputs": [
    {
     "data": {
      "text/plain": [
       "Text(0.5, 1.0, 'Main Level of Participation by Region')"
      ]
     },
     "execution_count": 53,
     "metadata": {},
     "output_type": "execute_result"
    },
    {
     "data": {
      "image/png": "[encoded data removed]",
      "text/plain": [
       "<Figure size 640x480 with 1 Axes>"
      ]
     },
     "metadata": {},
     "output_type": "display_data"
    }
   ],
   "source": [
    "#set a new index to illustrate with bar chart\n",
    "top_10.set_index('region').plot.bar(color = '#2a9d8f')\n",
    "plt.title('Main Level of Participation by Region',fontsize=10)"
   ]
  },
  {
   "cell_type": "markdown",
   "id": "67842f46",
   "metadata": {},
   "source": [
    "##### 5.2 Check Correlations"
   ]
  },
  {
   "cell_type": "code",
   "execution_count": 54,
   "id": "3f766f05",
   "metadata": {},
   "outputs": [],
   "source": [
    "#create a subset of the data with just the numeric variables to explore correlations\n",
    "df_cor=df[['n_turbines','capacity', 'level_score','opportunities_score','soc_imp','env_imp','eco_imp','imp_score']]"
   ]
  },
  {
   "cell_type": "code",
   "execution_count": 55,
   "id": "d9749454",
   "metadata": {},
   "outputs": [
    {
     "data": {
      "text/html": [
       "<div>\n",
       "<style scoped>\n",
       "    .dataframe tbody tr th:only-of-type {\n",
       "        vertical-align: middle;\n",
       "    }\n",
       "\n",
       "    .dataframe tbody tr th {\n",
       "        vertical-align: top;\n",
       "    }\n",
       "\n",
       "    .dataframe thead th {\n",
       "        text-align: right;\n",
       "    }\n",
       "</style>\n",
       "<table border=\"1\" class=\"dataframe\">\n",
       "  <thead>\n",
       "    <tr style=\"text-align: right;\">\n",
       "      <th></th>\n",
       "      <th>n_turbines</th>\n",
       "      <th>capacity</th>\n",
       "      <th>level_score</th>\n",
       "      <th>opportunities_score</th>\n",
       "      <th>soc_imp</th>\n",
       "      <th>env_imp</th>\n",
       "      <th>eco_imp</th>\n",
       "      <th>imp_score</th>\n",
       "    </tr>\n",
       "  </thead>\n",
       "  <tbody>\n",
       "    <tr>\n",
       "      <th>n_turbines</th>\n",
       "      <td>1.000000</td>\n",
       "      <td>0.964311</td>\n",
       "      <td>-0.219562</td>\n",
       "      <td>-0.155333</td>\n",
       "      <td>-0.087879</td>\n",
       "      <td>0.067048</td>\n",
       "      <td>0.190258</td>\n",
       "      <td>0.098570</td>\n",
       "    </tr>\n",
       "    <tr>\n",
       "      <th>capacity</th>\n",
       "      <td>0.964311</td>\n",
       "      <td>1.000000</td>\n",
       "      <td>-0.185896</td>\n",
       "      <td>-0.130254</td>\n",
       "      <td>-0.084491</td>\n",
       "      <td>0.053079</td>\n",
       "      <td>0.202467</td>\n",
       "      <td>0.100386</td>\n",
       "    </tr>\n",
       "    <tr>\n",
       "      <th>level_score</th>\n",
       "      <td>-0.219562</td>\n",
       "      <td>-0.185896</td>\n",
       "      <td>1.000000</td>\n",
       "      <td>0.534764</td>\n",
       "      <td>0.149063</td>\n",
       "      <td>-0.223265</td>\n",
       "      <td>0.113506</td>\n",
       "      <td>0.033408</td>\n",
       "    </tr>\n",
       "    <tr>\n",
       "      <th>opportunities_score</th>\n",
       "      <td>-0.155333</td>\n",
       "      <td>-0.130254</td>\n",
       "      <td>0.534764</td>\n",
       "      <td>1.000000</td>\n",
       "      <td>0.178414</td>\n",
       "      <td>-0.123741</td>\n",
       "      <td>0.141537</td>\n",
       "      <td>0.113707</td>\n",
       "    </tr>\n",
       "    <tr>\n",
       "      <th>soc_imp</th>\n",
       "      <td>-0.087879</td>\n",
       "      <td>-0.084491</td>\n",
       "      <td>0.149063</td>\n",
       "      <td>0.178414</td>\n",
       "      <td>1.000000</td>\n",
       "      <td>0.065096</td>\n",
       "      <td>0.026322</td>\n",
       "      <td>0.639832</td>\n",
       "    </tr>\n",
       "    <tr>\n",
       "      <th>env_imp</th>\n",
       "      <td>0.067048</td>\n",
       "      <td>0.053079</td>\n",
       "      <td>-0.223265</td>\n",
       "      <td>-0.123741</td>\n",
       "      <td>0.065096</td>\n",
       "      <td>1.000000</td>\n",
       "      <td>-0.025701</td>\n",
       "      <td>0.553176</td>\n",
       "    </tr>\n",
       "    <tr>\n",
       "      <th>eco_imp</th>\n",
       "      <td>0.190258</td>\n",
       "      <td>0.202467</td>\n",
       "      <td>0.113506</td>\n",
       "      <td>0.141537</td>\n",
       "      <td>0.026322</td>\n",
       "      <td>-0.025701</td>\n",
       "      <td>1.000000</td>\n",
       "      <td>0.539764</td>\n",
       "    </tr>\n",
       "    <tr>\n",
       "      <th>imp_score</th>\n",
       "      <td>0.098570</td>\n",
       "      <td>0.100386</td>\n",
       "      <td>0.033408</td>\n",
       "      <td>0.113707</td>\n",
       "      <td>0.639832</td>\n",
       "      <td>0.553176</td>\n",
       "      <td>0.539764</td>\n",
       "      <td>1.000000</td>\n",
       "    </tr>\n",
       "  </tbody>\n",
       "</table>\n",
       "</div>"
      ],
      "text/plain": [
       "                     n_turbines  capacity  level_score  opportunities_score  \\\n",
       "n_turbines             1.000000  0.964311    -0.219562            -0.155333   \n",
       "capacity               0.964311  1.000000    -0.185896            -0.130254   \n",
       "level_score           -0.219562 -0.185896     1.000000             0.534764   \n",
       "opportunities_score   -0.155333 -0.130254     0.534764             1.000000   \n",
       "soc_imp               -0.087879 -0.084491     0.149063             0.178414   \n",
       "env_imp                0.067048  0.053079    -0.223265            -0.123741   \n",
       "eco_imp                0.190258  0.202467     0.113506             0.141537   \n",
       "imp_score              0.098570  0.100386     0.033408             0.113707   \n",
       "\n",
       "                      soc_imp   env_imp   eco_imp  imp_score  \n",
       "n_turbines          -0.087879  0.067048  0.190258   0.098570  \n",
       "capacity            -0.084491  0.053079  0.202467   0.100386  \n",
       "level_score          0.149063 -0.223265  0.113506   0.033408  \n",
       "opportunities_score  0.178414 -0.123741  0.141537   0.113707  \n",
       "soc_imp              1.000000  0.065096  0.026322   0.639832  \n",
       "env_imp              0.065096  1.000000 -0.025701   0.553176  \n",
       "eco_imp              0.026322 -0.025701  1.000000   0.539764  \n",
       "imp_score            0.639832  0.553176  0.539764   1.000000  "
      ]
     },
     "execution_count": 55,
     "metadata": {},
     "output_type": "execute_result"
    }
   ],
   "source": [
    "#using spearman correlation method, since some variables are ordinal and therefore not normally distributed\n",
    "df_cor.corr(method='spearman')"
   ]
  },
  {
   "cell_type": "code",
   "execution_count": 56,
   "id": "38acea21",
   "metadata": {},
   "outputs": [
    {
     "data": {
      "image/png": "[encoded data removed]",
      "text/plain": [
       "<Figure size 1000x1000 with 2 Axes>"
      ]
     },
     "metadata": {},
     "output_type": "display_data"
    }
   ],
   "source": [
    "#Create a subplot with matplotlib\n",
    "f,ax = plt.subplots(figsize=(10,10))\n",
    "#Now create the correlation heatmap in Seaborn, using the 'annot' method to include the coefficients in the heatmap\n",
    "fig1=sns.heatmap(df_cor.corr(), cmap=\"coolwarm\", annot = True, ax = ax)"
   ]
  },
  {
   "cell_type": "markdown",
   "id": "eed77d31",
   "metadata": {},
   "source": [
    "The correlation heatmap shows a perfect correlation between installed capacity and turbine number (so these variables are aliases), which is to be expected.There is a moderate correlation between social impacts and the total score for impacts, as well as economic and environmemntal impacts and the total impact score, although the social impacts score has a higher correlation (correlation coefficient is moderate to high - 0.68). There is also a moderate corrrelation (0.5) between the level of participation and the score of opportunities for participation."
   ]
  },
  {
   "cell_type": "code",
   "execution_count": null,
   "id": "f683787f",
   "metadata": {},
   "outputs": [],
   "source": []
  }
 ],
 "metadata": {
  "kernelspec": {
   "display_name": "Python 3 (ipykernel)",
   "language": "python",
   "name": "python3"
  },
  "language_info": {
   "codemirror_mode": {
    "name": "ipython",
    "version": 3
   },
   "file_extension": ".py",
   "mimetype": "text/x-python",
   "name": "python",
   "nbconvert_exporter": "python",
   "pygments_lexer": "ipython3",
   "version": "3.9.13"
  }
 },
 "nbformat": 4,
 "nbformat_minor": 5
}
